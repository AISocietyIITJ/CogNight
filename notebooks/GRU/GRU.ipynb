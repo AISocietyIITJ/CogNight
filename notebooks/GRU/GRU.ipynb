{
  "cells": [
    {
      "cell_type": "code",
      "execution_count": 1,
      "metadata": {
        "colab": {
          "base_uri": "https://localhost:8080/"
        },
        "id": "fxHXZ5Xrzwij",
        "outputId": "7507782f-6659-46a0-d62a-ac50db23de6e"
      },
      "outputs": [],
      "source": [
        "# from google.colab import drive\n",
        "# drive.mount('/content/drive')"
      ]
    },
    {
      "cell_type": "code",
      "execution_count": 2,
      "metadata": {
        "id": "N3QlAldNyfyt"
      },
      "outputs": [],
      "source": [
        "import pandas as pd\n",
        "import torch\n",
        "import torch.nn as nn\n",
        "import matplotlib.pyplot as plt\n",
        "import numpy as np\n",
        "import pandas as pd\n",
        "from torch.utils.data import Dataset, DataLoader\n",
        "from tqdm import tqdm\n",
        "# from google.colab import files\n",
        "import torch.nn.init as init"
      ]
    },
    {
      "cell_type": "code",
      "execution_count": 3,
      "metadata": {
        "id": "w6MobjgezqG8"
      },
      "outputs": [],
      "source": [
        "df = pd.read_csv('C:/Users/91738/RAID OSR Project/Datasets/data (2).csv')"
      ]
    },
    {
      "cell_type": "code",
      "execution_count": 4,
      "metadata": {
        "colab": {
          "base_uri": "https://localhost:8080/"
        },
        "id": "o5YzF7Yo0SY7",
        "outputId": "dd2732ca-9345-4d10-e956-b97577026ceb"
      },
      "outputs": [
        {
          "data": {
            "text/html": [
              "<div>\n",
              "<style scoped>\n",
              "    .dataframe tbody tr th:only-of-type {\n",
              "        vertical-align: middle;\n",
              "    }\n",
              "\n",
              "    .dataframe tbody tr th {\n",
              "        vertical-align: top;\n",
              "    }\n",
              "\n",
              "    .dataframe thead th {\n",
              "        text-align: right;\n",
              "    }\n",
              "</style>\n",
              "<table border=\"1\" class=\"dataframe\">\n",
              "  <thead>\n",
              "    <tr style=\"text-align: right;\">\n",
              "      <th></th>\n",
              "      <th>0</th>\n",
              "      <th>1</th>\n",
              "      <th>2</th>\n",
              "      <th>3</th>\n",
              "      <th>4</th>\n",
              "      <th>5</th>\n",
              "      <th>6</th>\n",
              "      <th>7</th>\n",
              "      <th>8</th>\n",
              "      <th>9</th>\n",
              "      <th>sleep_score</th>\n",
              "    </tr>\n",
              "  </thead>\n",
              "  <tbody>\n",
              "    <tr>\n",
              "      <th>0</th>\n",
              "      <td>-29716.812</td>\n",
              "      <td>26.260498</td>\n",
              "      <td>183.901950</td>\n",
              "      <td>-191.234620</td>\n",
              "      <td>28.111542</td>\n",
              "      <td>-138.319730</td>\n",
              "      <td>9.611153</td>\n",
              "      <td>-33.660805</td>\n",
              "      <td>-6.205944</td>\n",
              "      <td>24.756470</td>\n",
              "      <td>66.299470</td>\n",
              "    </tr>\n",
              "    <tr>\n",
              "      <th>1</th>\n",
              "      <td>61582.188</td>\n",
              "      <td>-100.235990</td>\n",
              "      <td>-67.204800</td>\n",
              "      <td>-63.652220</td>\n",
              "      <td>5.112045</td>\n",
              "      <td>-102.239640</td>\n",
              "      <td>8.236137</td>\n",
              "      <td>-1.796333</td>\n",
              "      <td>6.566654</td>\n",
              "      <td>11.270596</td>\n",
              "      <td>72.328720</td>\n",
              "    </tr>\n",
              "    <tr>\n",
              "      <th>2</th>\n",
              "      <td>-347637.380</td>\n",
              "      <td>-309.127700</td>\n",
              "      <td>-162.610120</td>\n",
              "      <td>232.288670</td>\n",
              "      <td>-55.700798</td>\n",
              "      <td>64.116590</td>\n",
              "      <td>-56.246410</td>\n",
              "      <td>-37.711060</td>\n",
              "      <td>-19.803879</td>\n",
              "      <td>6.339809</td>\n",
              "      <td>74.269295</td>\n",
              "    </tr>\n",
              "    <tr>\n",
              "      <th>3</th>\n",
              "      <td>-75634.500</td>\n",
              "      <td>-226.529140</td>\n",
              "      <td>-86.022095</td>\n",
              "      <td>-68.349270</td>\n",
              "      <td>-23.771538</td>\n",
              "      <td>-104.866660</td>\n",
              "      <td>-27.170800</td>\n",
              "      <td>-25.899551</td>\n",
              "      <td>-5.487747</td>\n",
              "      <td>9.070866</td>\n",
              "      <td>74.963680</td>\n",
              "    </tr>\n",
              "    <tr>\n",
              "      <th>4</th>\n",
              "      <td>-340416.060</td>\n",
              "      <td>-173.230620</td>\n",
              "      <td>65.407990</td>\n",
              "      <td>-69.629180</td>\n",
              "      <td>-23.440826</td>\n",
              "      <td>-148.422790</td>\n",
              "      <td>-26.189170</td>\n",
              "      <td>-63.191936</td>\n",
              "      <td>-19.332706</td>\n",
              "      <td>32.760980</td>\n",
              "      <td>69.316696</td>\n",
              "    </tr>\n",
              "    <tr>\n",
              "      <th>...</th>\n",
              "      <td>...</td>\n",
              "      <td>...</td>\n",
              "      <td>...</td>\n",
              "      <td>...</td>\n",
              "      <td>...</td>\n",
              "      <td>...</td>\n",
              "      <td>...</td>\n",
              "      <td>...</td>\n",
              "      <td>...</td>\n",
              "      <td>...</td>\n",
              "      <td>...</td>\n",
              "    </tr>\n",
              "    <tr>\n",
              "      <th>29995</th>\n",
              "      <td>-372076.100</td>\n",
              "      <td>-209.595250</td>\n",
              "      <td>-38.329010</td>\n",
              "      <td>51.064210</td>\n",
              "      <td>-28.736916</td>\n",
              "      <td>-107.920820</td>\n",
              "      <td>-34.552826</td>\n",
              "      <td>-57.680600</td>\n",
              "      <td>-18.706600</td>\n",
              "      <td>27.470993</td>\n",
              "      <td>71.606570</td>\n",
              "    </tr>\n",
              "    <tr>\n",
              "      <th>29996</th>\n",
              "      <td>283526.200</td>\n",
              "      <td>-102.611390</td>\n",
              "      <td>-144.557980</td>\n",
              "      <td>-27.526794</td>\n",
              "      <td>-10.881226</td>\n",
              "      <td>73.850690</td>\n",
              "      <td>-16.892555</td>\n",
              "      <td>43.190460</td>\n",
              "      <td>10.181782</td>\n",
              "      <td>-19.643436</td>\n",
              "      <td>74.864210</td>\n",
              "    </tr>\n",
              "    <tr>\n",
              "      <th>29997</th>\n",
              "      <td>-284105.800</td>\n",
              "      <td>-15.228516</td>\n",
              "      <td>101.034390</td>\n",
              "      <td>-17.132996</td>\n",
              "      <td>1.419510</td>\n",
              "      <td>-67.230804</td>\n",
              "      <td>-17.945099</td>\n",
              "      <td>-46.702652</td>\n",
              "      <td>-18.517296</td>\n",
              "      <td>21.768631</td>\n",
              "      <td>66.464420</td>\n",
              "    </tr>\n",
              "    <tr>\n",
              "      <th>29998</th>\n",
              "      <td>265753.620</td>\n",
              "      <td>97.336914</td>\n",
              "      <td>81.218350</td>\n",
              "      <td>-112.504330</td>\n",
              "      <td>71.406070</td>\n",
              "      <td>-94.724550</td>\n",
              "      <td>38.361900</td>\n",
              "      <td>21.743484</td>\n",
              "      <td>18.959126</td>\n",
              "      <td>-2.515305</td>\n",
              "      <td>70.319016</td>\n",
              "    </tr>\n",
              "    <tr>\n",
              "      <th>29999</th>\n",
              "      <td>302395.700</td>\n",
              "      <td>290.015750</td>\n",
              "      <td>137.014310</td>\n",
              "      <td>-84.849550</td>\n",
              "      <td>167.640760</td>\n",
              "      <td>-4.122726</td>\n",
              "      <td>74.842340</td>\n",
              "      <td>51.703033</td>\n",
              "      <td>22.106617</td>\n",
              "      <td>-22.340584</td>\n",
              "      <td>67.155070</td>\n",
              "    </tr>\n",
              "  </tbody>\n",
              "</table>\n",
              "<p>30000 rows × 11 columns</p>\n",
              "</div>"
            ],
            "text/plain": [
              "                0           1           2           3           4           5  \\\n",
              "0      -29716.812   26.260498  183.901950 -191.234620   28.111542 -138.319730   \n",
              "1       61582.188 -100.235990  -67.204800  -63.652220    5.112045 -102.239640   \n",
              "2     -347637.380 -309.127700 -162.610120  232.288670  -55.700798   64.116590   \n",
              "3      -75634.500 -226.529140  -86.022095  -68.349270  -23.771538 -104.866660   \n",
              "4     -340416.060 -173.230620   65.407990  -69.629180  -23.440826 -148.422790   \n",
              "...           ...         ...         ...         ...         ...         ...   \n",
              "29995 -372076.100 -209.595250  -38.329010   51.064210  -28.736916 -107.920820   \n",
              "29996  283526.200 -102.611390 -144.557980  -27.526794  -10.881226   73.850690   \n",
              "29997 -284105.800  -15.228516  101.034390  -17.132996    1.419510  -67.230804   \n",
              "29998  265753.620   97.336914   81.218350 -112.504330   71.406070  -94.724550   \n",
              "29999  302395.700  290.015750  137.014310  -84.849550  167.640760   -4.122726   \n",
              "\n",
              "               6          7          8          9  sleep_score  \n",
              "0       9.611153 -33.660805  -6.205944  24.756470    66.299470  \n",
              "1       8.236137  -1.796333   6.566654  11.270596    72.328720  \n",
              "2     -56.246410 -37.711060 -19.803879   6.339809    74.269295  \n",
              "3     -27.170800 -25.899551  -5.487747   9.070866    74.963680  \n",
              "4     -26.189170 -63.191936 -19.332706  32.760980    69.316696  \n",
              "...          ...        ...        ...        ...          ...  \n",
              "29995 -34.552826 -57.680600 -18.706600  27.470993    71.606570  \n",
              "29996 -16.892555  43.190460  10.181782 -19.643436    74.864210  \n",
              "29997 -17.945099 -46.702652 -18.517296  21.768631    66.464420  \n",
              "29998  38.361900  21.743484  18.959126  -2.515305    70.319016  \n",
              "29999  74.842340  51.703033  22.106617 -22.340584    67.155070  \n",
              "\n",
              "[30000 rows x 11 columns]"
            ]
          },
          "execution_count": 4,
          "metadata": {},
          "output_type": "execute_result"
        }
      ],
      "source": [
        "df"
      ]
    },
    {
      "cell_type": "code",
      "execution_count": 5,
      "metadata": {
        "id": "LZE6dFJH0xk6"
      },
      "outputs": [],
      "source": [
        "# class Model(nn.Module):\n",
        "#     def __init__(self):\n",
        "#         super(Model, self).__init__()\n",
        "#         self.hidden_size = hidden_size\n",
        "#         self.num_layers = num_layers\n",
        "#         self.gru1 = nn.GRU(10, 16, 3, batch_first=True)\n",
        "#         self.fc1 = nn.Linear(16, 64)\n",
        "#         self.gru2 = nn.GRU(64, 8, 4, batch_first=True)\n",
        "#         self.fc2 = nn.Linear(8, 1)\n",
        "\n",
        "#     def forward(self, x):\n",
        "#         out, _ = self.gru1(x)\n",
        "#         # out = torch.tanh(self.fc1(out))\n",
        "#         out = self.fc1(out)\n",
        "#         out, _ = self.gru2(out)\n",
        "#         out = self.fc2(out)\n",
        "#         return out"
      ]
    },
    {
      "cell_type": "code",
      "execution_count": 6,
      "metadata": {
        "id": "xdAQbDN7xifq"
      },
      "outputs": [],
      "source": [
        "# class Model(nn.Module):\n",
        "#     def __init__(self):\n",
        "#         super(Model, self).__init__()\n",
        "#         self.gru1 = nn.GRU(10, 16, 2, batch_first=True)\n",
        "#         self.bn1 = nn.BatchNorm1d(16)\n",
        "#         self.fc1 = nn.Linear(16, 64)\n",
        "#         self.bn2 = nn.BatchNorm1d(64)\n",
        "#         self.gru2 = nn.GRU(64, 8, 2, batch_first=True)\n",
        "#         self.bn3 = nn.BatchNorm1d(8)\n",
        "#         self.fc2 = nn.Linear(8, 1)\n",
        "\n",
        "#         # Initialize linear layers with Xavier (Glorot) initialization\n",
        "#         init.xavier_uniform_(self.fc1.weight)\n",
        "#         init.xavier_uniform_(self.fc2.weight)\n",
        "\n",
        "#         # Initialize GRU layers with Xavier initialization\n",
        "#         for name, param in self.gru1.named_parameters():\n",
        "#             if 'weight' in name:\n",
        "#                 init.xavier_normal_(param)\n",
        "#         for name, param in self.gru2.named_parameters():\n",
        "#             if 'weight' in name:\n",
        "#                 init.xavier_normal_(param)\n",
        "\n",
        "#     def forward(self, x):\n",
        "#         out, _ = self.gru1(x)\n",
        "#         out = self.bn1(out)\n",
        "#         out = self.fc1(out)\n",
        "#         out = self.bn2(out)\n",
        "#         out, _ = self.gru2(out)\n",
        "#         out = self.bn3(out)\n",
        "#         out = self.fc2(out)\n",
        "#         return out\n"
      ]
    },
    {
      "cell_type": "code",
      "execution_count": 7,
      "metadata": {
        "id": "xEFAbgGAXhC3"
      },
      "outputs": [],
      "source": [
        "class Model(nn.Module):\n",
        "    def __init__(self):\n",
        "        super(Model, self).__init__()\n",
        "        self.gru1 = nn.GRU(10, 16, 2, batch_first=True)\n",
        "        self.gru2 = nn.GRU(16, 1, 2, batch_first=True)\n",
        "\n",
        "    def forward(self, x):\n",
        "        out, _ = self.gru1(x)\n",
        "        out, _ = self.gru2(out)\n",
        "        return out\n"
      ]
    },
    {
      "cell_type": "code",
      "execution_count": 8,
      "metadata": {
        "id": "GteLy-pEIWl3"
      },
      "outputs": [],
      "source": [
        "class LModel(nn.Module):\n",
        "    def __init__(self):\n",
        "        super(LModel, self).__init__()\n",
        "        self.lstm1 = nn.LSTM(10, 16, 3, batch_first=True)\n",
        "        self.fc1 = nn.Linear(16, 64)\n",
        "        self.lstm2 = nn.LSTM(64, 8, 4, batch_first=True)\n",
        "        self.fc2 = nn.Linear(8, 1)\n",
        "\n",
        "    def forward(self, x):\n",
        "        out, _ = self.lstm1(x)\n",
        "        # out = torch.tanh(self.fc1(out))\n",
        "        out = self.fc1(out)  # Only take the last time step's output\n",
        "        out, _ = self.lstm2(out)\n",
        "        out = self.fc2(out)  # Only take the last time step's output\n",
        "        return out\n"
      ]
    },
    {
      "cell_type": "code",
      "execution_count": 9,
      "metadata": {
        "colab": {
          "base_uri": "https://localhost:8080/"
        },
        "id": "LzaKPRCu2WXQ",
        "outputId": "85199e6e-7940-4b24-9b21-a9ae584bec19"
      },
      "outputs": [
        {
          "name": "stdout",
          "output_type": "stream",
          "text": [
            "torch.Size([30000, 10])\n",
            "torch.Size([30000, 4])\n"
          ]
        }
      ],
      "source": [
        "input_size = 10\n",
        "hidden_size = 4\n",
        "num_layers = 3\n",
        "# Initialize the hidden state outside the loop\n",
        "test = torch.randn(df.iloc[:,:10].shape)\n",
        "h = torch.zeros(num_layers,  hidden_size)\n",
        "print(test.shape)\n",
        "gru = nn.GRU(input_size, hidden_size, num_layers, batch_first=True)\n",
        "pp,_ = gru(test, h)\n",
        "print(pp.shape)"
      ]
    },
    {
      "cell_type": "code",
      "execution_count": 10,
      "metadata": {
        "id": "NIZcmUt76jtJ"
      },
      "outputs": [],
      "source": [
        "class SleepDataTrain(Dataset):\n",
        "    def __init__(self, features, targets):\n",
        "        self.features = features\n",
        "        self.targets = targets\n",
        "\n",
        "    def __len__(self):\n",
        "        return len(self.features)\n",
        "\n",
        "    def __getitem__(self, idx):\n",
        "        return self.features[idx], self.targets[idx]"
      ]
    },
    {
      "cell_type": "code",
      "execution_count": 11,
      "metadata": {
        "id": "aBhQP2LjFu-h"
      },
      "outputs": [],
      "source": [
        "class SleepDataVal(Dataset):\n",
        "    def __init__(self, features, targets):\n",
        "        self.features = features\n",
        "        self.targets = targets\n",
        "\n",
        "    def __len__(self):\n",
        "        return len(self.features)\n",
        "\n",
        "    def __getitem__(self, idx):\n",
        "        return self.features[idx], self.targets[idx]"
      ]
    },
    {
      "cell_type": "code",
      "execution_count": 12,
      "metadata": {
        "colab": {
          "base_uri": "https://localhost:8080/"
        },
        "id": "dtOkaSUhDamI",
        "outputId": "3d753b79-14ce-47fb-afc3-b2f60001a0ee"
      },
      "outputs": [
        {
          "name": "stdout",
          "output_type": "stream",
          "text": [
            "torch.Size([10]) torch.Size([30000, 10]) torch.Size([30000])\n"
          ]
        }
      ],
      "source": [
        "X, y = np.array(df.iloc[:,:10]), np.array(df.iloc[:,10])\n",
        "X = torch.tensor(X)\n",
        "y = torch.tensor(y)\n",
        "print(X[111].shape,X.shape, y.shape)"
      ]
    },
    {
      "cell_type": "code",
      "execution_count": 13,
      "metadata": {
        "id": "tXZuVORcSoEh"
      },
      "outputs": [],
      "source": [
        "# best_p,best_d,best_q = 1,2,1\n",
        "\n",
        "# import statsmodels.api as sm\n",
        "# from statsmodels.tsa.arima.model import ARIMA\n",
        "\n",
        "\n",
        "# model = ARIMA(y[:-1], order=(best_p, best_d, best_q))  # Replace p, d, q with appropriate values\n",
        "# model_fit = model.fit()\n",
        "\n",
        "# print(model_fit.summary())"
      ]
    },
    {
      "cell_type": "code",
      "execution_count": 14,
      "metadata": {
        "id": "JzoJbcNTSoqC"
      },
      "outputs": [],
      "source": [
        "# forecast = model_fit.forecast(steps=1)\n",
        "# prediction = forecast[0]\n",
        "# actual = y[-1]\n",
        "\n",
        "# print(\"Actual expected value =\",y[-1])\n",
        "# print(\"Predicted value = \",prediction)"
      ]
    },
    {
      "cell_type": "code",
      "execution_count": 15,
      "metadata": {
        "colab": {
          "base_uri": "https://localhost:8080/"
        },
        "id": "0SNBhsqHI9m4",
        "outputId": "c6d6fca3-24af-4f52-ae8e-c48ca760820b"
      },
      "outputs": [],
      "source": [
        "model = LModel()"
      ]
    },
    {
      "cell_type": "code",
      "execution_count": 16,
      "metadata": {
        "id": "HsI8MrUt9l5d"
      },
      "outputs": [],
      "source": [
        "X, y = np.array(df.iloc[:,:10]), np.array(df.iloc[:,10])\n",
        "X_train = X[:int(len(X)*0.8)]\n",
        "y_train = y[:int(len(y)*0.8)]\n",
        "X = torch.tensor(X_train)\n",
        "y = torch.tensor(y_train)\n",
        "sleep_data_train = SleepDataTrain(X_train,y_train)\n",
        "\n",
        "batch_size = 512\n",
        "data_loader_train = DataLoader(sleep_data_train, batch_size=batch_size, shuffle=False)\n",
        "# model = Model()\n",
        "\n",
        "optimizer = torch.optim.Adam(model.parameters(), lr=0.008)\n",
        "criterion = torch.nn.MSELoss()"
      ]
    },
    {
      "cell_type": "code",
      "execution_count": 17,
      "metadata": {
        "id": "WE1HSxn-s92O"
      },
      "outputs": [],
      "source": [
        "# uploaded = files.upload()\n",
        "# model = torch.load('CogNight_GRU.pth')"
      ]
    },
    {
      "cell_type": "code",
      "execution_count": 18,
      "metadata": {
        "id": "ELZTD0HA_KP6"
      },
      "outputs": [
        {
          "name": "stderr",
          "output_type": "stream",
          "text": [
            "  0%|          | 0/47 [00:00<?, ?it/s]c:\\Users\\91738\\anaconda3\\envs\\tf\\lib\\site-packages\\torch\\nn\\modules\\loss.py:530: UserWarning: Using a target size (torch.Size([512])) that is different to the input size (torch.Size([512, 1])). This will likely lead to incorrect results due to broadcasting. Please ensure they have the same size.\n",
            "  return F.mse_loss(input, target, reduction=self.reduction)\n",
            " 98%|█████████▊| 46/47 [00:25<00:00,  1.86it/s]c:\\Users\\91738\\anaconda3\\envs\\tf\\lib\\site-packages\\torch\\nn\\modules\\loss.py:530: UserWarning: Using a target size (torch.Size([448])) that is different to the input size (torch.Size([448, 1])). This will likely lead to incorrect results due to broadcasting. Please ensure they have the same size.\n",
            "  return F.mse_loss(input, target, reduction=self.reduction)\n",
            "100%|██████████| 47/47 [00:25<00:00,  1.84it/s]\n"
          ]
        },
        {
          "name": "stdout",
          "output_type": "stream",
          "text": [
            "Epoch 1   Training Loss: 4869.597313\n"
          ]
        },
        {
          "name": "stderr",
          "output_type": "stream",
          "text": [
            "100%|██████████| 47/47 [00:29<00:00,  1.61it/s]\n"
          ]
        },
        {
          "name": "stdout",
          "output_type": "stream",
          "text": [
            "Epoch 2   Training Loss: 4296.629633\n"
          ]
        },
        {
          "name": "stderr",
          "output_type": "stream",
          "text": [
            "100%|██████████| 47/47 [00:25<00:00,  1.85it/s]\n"
          ]
        },
        {
          "name": "stdout",
          "output_type": "stream",
          "text": [
            "Epoch 3   Training Loss: 3800.481736\n"
          ]
        },
        {
          "name": "stderr",
          "output_type": "stream",
          "text": [
            "100%|██████████| 47/47 [00:25<00:00,  1.85it/s]\n"
          ]
        },
        {
          "name": "stdout",
          "output_type": "stream",
          "text": [
            "Epoch 4   Training Loss: 3380.518238\n"
          ]
        },
        {
          "name": "stderr",
          "output_type": "stream",
          "text": [
            "100%|██████████| 47/47 [00:25<00:00,  1.84it/s]\n"
          ]
        },
        {
          "name": "stdout",
          "output_type": "stream",
          "text": [
            "Epoch 5   Training Loss: 3007.743933\n"
          ]
        },
        {
          "name": "stderr",
          "output_type": "stream",
          "text": [
            "100%|██████████| 47/47 [00:25<00:00,  1.83it/s]\n"
          ]
        },
        {
          "name": "stdout",
          "output_type": "stream",
          "text": [
            "Epoch 6   Training Loss: 2672.307394\n"
          ]
        },
        {
          "name": "stderr",
          "output_type": "stream",
          "text": [
            "100%|██████████| 47/47 [00:25<00:00,  1.85it/s]\n"
          ]
        },
        {
          "name": "stdout",
          "output_type": "stream",
          "text": [
            "Epoch 7   Training Loss: 2369.154525\n"
          ]
        },
        {
          "name": "stderr",
          "output_type": "stream",
          "text": [
            "100%|██████████| 47/47 [00:25<00:00,  1.85it/s]\n"
          ]
        },
        {
          "name": "stdout",
          "output_type": "stream",
          "text": [
            "Epoch 8   Training Loss: 2094.933760\n"
          ]
        },
        {
          "name": "stderr",
          "output_type": "stream",
          "text": [
            "100%|██████████| 47/47 [00:25<00:00,  1.82it/s]\n"
          ]
        },
        {
          "name": "stdout",
          "output_type": "stream",
          "text": [
            "Epoch 9   Training Loss: 1847.075063\n"
          ]
        },
        {
          "name": "stderr",
          "output_type": "stream",
          "text": [
            "100%|██████████| 47/47 [00:25<00:00,  1.84it/s]\n"
          ]
        },
        {
          "name": "stdout",
          "output_type": "stream",
          "text": [
            "Epoch 10   Training Loss: 1623.429571\n"
          ]
        },
        {
          "name": "stderr",
          "output_type": "stream",
          "text": [
            "100%|██████████| 47/47 [00:25<00:00,  1.83it/s]\n"
          ]
        },
        {
          "name": "stdout",
          "output_type": "stream",
          "text": [
            "Epoch 11   Training Loss: 1422.103061\n"
          ]
        },
        {
          "name": "stderr",
          "output_type": "stream",
          "text": [
            "100%|██████████| 47/47 [00:26<00:00,  1.78it/s]\n"
          ]
        },
        {
          "name": "stdout",
          "output_type": "stream",
          "text": [
            "Epoch 12   Training Loss: 1241.354383\n"
          ]
        },
        {
          "name": "stderr",
          "output_type": "stream",
          "text": [
            "100%|██████████| 47/47 [00:26<00:00,  1.78it/s]\n"
          ]
        },
        {
          "name": "stdout",
          "output_type": "stream",
          "text": [
            "Epoch 13   Training Loss: 1079.603088\n"
          ]
        },
        {
          "name": "stderr",
          "output_type": "stream",
          "text": [
            "100%|██████████| 47/47 [00:26<00:00,  1.75it/s]\n"
          ]
        },
        {
          "name": "stdout",
          "output_type": "stream",
          "text": [
            "Epoch 14   Training Loss: 935.385994\n"
          ]
        },
        {
          "name": "stderr",
          "output_type": "stream",
          "text": [
            "100%|██████████| 47/47 [00:26<00:00,  1.75it/s]\n"
          ]
        },
        {
          "name": "stdout",
          "output_type": "stream",
          "text": [
            "Epoch 15   Training Loss: 807.280337\n"
          ]
        },
        {
          "name": "stderr",
          "output_type": "stream",
          "text": [
            "100%|██████████| 47/47 [00:26<00:00,  1.81it/s]\n"
          ]
        },
        {
          "name": "stdout",
          "output_type": "stream",
          "text": [
            "Epoch 16   Training Loss: 693.939736\n"
          ]
        },
        {
          "name": "stderr",
          "output_type": "stream",
          "text": [
            "100%|██████████| 47/47 [00:26<00:00,  1.75it/s]\n"
          ]
        },
        {
          "name": "stdout",
          "output_type": "stream",
          "text": [
            "Epoch 17   Training Loss: 594.088439\n"
          ]
        },
        {
          "name": "stderr",
          "output_type": "stream",
          "text": [
            "100%|██████████| 47/47 [00:25<00:00,  1.81it/s]\n"
          ]
        },
        {
          "name": "stdout",
          "output_type": "stream",
          "text": [
            "Epoch 18   Training Loss: 506.516763\n"
          ]
        },
        {
          "name": "stderr",
          "output_type": "stream",
          "text": [
            "100%|██████████| 47/47 [00:25<00:00,  1.83it/s]\n"
          ]
        },
        {
          "name": "stdout",
          "output_type": "stream",
          "text": [
            "Epoch 19   Training Loss: 430.079215\n"
          ]
        },
        {
          "name": "stderr",
          "output_type": "stream",
          "text": [
            "100%|██████████| 47/47 [00:23<00:00,  1.98it/s]\n"
          ]
        },
        {
          "name": "stdout",
          "output_type": "stream",
          "text": [
            "Epoch 20   Training Loss: 363.692662\n"
          ]
        },
        {
          "name": "stderr",
          "output_type": "stream",
          "text": [
            "100%|██████████| 47/47 [00:24<00:00,  1.93it/s]\n"
          ]
        },
        {
          "name": "stdout",
          "output_type": "stream",
          "text": [
            "Epoch 21   Training Loss: 306.336697\n"
          ]
        },
        {
          "name": "stderr",
          "output_type": "stream",
          "text": [
            "100%|██████████| 47/47 [00:24<00:00,  1.89it/s]\n"
          ]
        },
        {
          "name": "stdout",
          "output_type": "stream",
          "text": [
            "Epoch 22   Training Loss: 257.053500\n"
          ]
        },
        {
          "name": "stderr",
          "output_type": "stream",
          "text": [
            "100%|██████████| 47/47 [00:25<00:00,  1.82it/s]\n"
          ]
        },
        {
          "name": "stdout",
          "output_type": "stream",
          "text": [
            "Epoch 23   Training Loss: 214.948120\n"
          ]
        },
        {
          "name": "stderr",
          "output_type": "stream",
          "text": [
            "100%|██████████| 47/47 [00:24<00:00,  1.89it/s]\n"
          ]
        },
        {
          "name": "stdout",
          "output_type": "stream",
          "text": [
            "Epoch 24   Training Loss: 179.188846\n"
          ]
        },
        {
          "name": "stderr",
          "output_type": "stream",
          "text": [
            "100%|██████████| 47/47 [00:25<00:00,  1.85it/s]\n"
          ]
        },
        {
          "name": "stdout",
          "output_type": "stream",
          "text": [
            "Epoch 25   Training Loss: 149.006769\n"
          ]
        },
        {
          "name": "stderr",
          "output_type": "stream",
          "text": [
            "100%|██████████| 47/47 [00:25<00:00,  1.85it/s]\n"
          ]
        },
        {
          "name": "stdout",
          "output_type": "stream",
          "text": [
            "Epoch 26   Training Loss: 123.695706\n"
          ]
        },
        {
          "name": "stderr",
          "output_type": "stream",
          "text": [
            "100%|██████████| 47/47 [00:26<00:00,  1.81it/s]\n"
          ]
        },
        {
          "name": "stdout",
          "output_type": "stream",
          "text": [
            "Epoch 27   Training Loss: 102.611097\n"
          ]
        },
        {
          "name": "stderr",
          "output_type": "stream",
          "text": [
            "100%|██████████| 47/47 [00:25<00:00,  1.87it/s]\n"
          ]
        },
        {
          "name": "stdout",
          "output_type": "stream",
          "text": [
            "Epoch 28   Training Loss: 85.168674\n"
          ]
        },
        {
          "name": "stderr",
          "output_type": "stream",
          "text": [
            "100%|██████████| 47/47 [00:25<00:00,  1.88it/s]\n"
          ]
        },
        {
          "name": "stdout",
          "output_type": "stream",
          "text": [
            "Epoch 29   Training Loss: 70.842858\n"
          ]
        },
        {
          "name": "stderr",
          "output_type": "stream",
          "text": [
            "100%|██████████| 47/47 [00:25<00:00,  1.85it/s]\n"
          ]
        },
        {
          "name": "stdout",
          "output_type": "stream",
          "text": [
            "Epoch 30   Training Loss: 59.164274\n"
          ]
        },
        {
          "name": "stderr",
          "output_type": "stream",
          "text": [
            "100%|██████████| 47/47 [00:29<00:00,  1.59it/s]\n"
          ]
        },
        {
          "name": "stdout",
          "output_type": "stream",
          "text": [
            "Epoch 31   Training Loss: 49.717075\n"
          ]
        },
        {
          "name": "stderr",
          "output_type": "stream",
          "text": [
            "100%|██████████| 47/47 [00:26<00:00,  1.80it/s]\n"
          ]
        },
        {
          "name": "stdout",
          "output_type": "stream",
          "text": [
            "Epoch 32   Training Loss: 42.136052\n"
          ]
        },
        {
          "name": "stderr",
          "output_type": "stream",
          "text": [
            "100%|██████████| 47/47 [00:25<00:00,  1.85it/s]\n"
          ]
        },
        {
          "name": "stdout",
          "output_type": "stream",
          "text": [
            "Epoch 33   Training Loss: 36.102948\n"
          ]
        },
        {
          "name": "stderr",
          "output_type": "stream",
          "text": [
            "100%|██████████| 47/47 [00:24<00:00,  1.92it/s]\n"
          ]
        },
        {
          "name": "stdout",
          "output_type": "stream",
          "text": [
            "Epoch 34   Training Loss: 31.343010\n"
          ]
        },
        {
          "name": "stderr",
          "output_type": "stream",
          "text": [
            "100%|██████████| 47/47 [00:23<00:00,  1.98it/s]\n"
          ]
        },
        {
          "name": "stdout",
          "output_type": "stream",
          "text": [
            "Epoch 35   Training Loss: 27.621294\n"
          ]
        },
        {
          "name": "stderr",
          "output_type": "stream",
          "text": [
            "100%|██████████| 47/47 [00:23<00:00,  1.97it/s]\n"
          ]
        },
        {
          "name": "stdout",
          "output_type": "stream",
          "text": [
            "Epoch 36   Training Loss: 24.738538\n"
          ]
        },
        {
          "name": "stderr",
          "output_type": "stream",
          "text": [
            "100%|██████████| 47/47 [00:24<00:00,  1.95it/s]\n"
          ]
        },
        {
          "name": "stdout",
          "output_type": "stream",
          "text": [
            "Epoch 37   Training Loss: 22.527447\n"
          ]
        },
        {
          "name": "stderr",
          "output_type": "stream",
          "text": [
            "100%|██████████| 47/47 [00:23<00:00,  1.97it/s]\n"
          ]
        },
        {
          "name": "stdout",
          "output_type": "stream",
          "text": [
            "Epoch 38   Training Loss: 20.849019\n"
          ]
        },
        {
          "name": "stderr",
          "output_type": "stream",
          "text": [
            "100%|██████████| 47/47 [00:24<00:00,  1.95it/s]\n"
          ]
        },
        {
          "name": "stdout",
          "output_type": "stream",
          "text": [
            "Epoch 39   Training Loss: 19.588756\n"
          ]
        },
        {
          "name": "stderr",
          "output_type": "stream",
          "text": [
            "100%|██████████| 47/47 [00:24<00:00,  1.91it/s]\n"
          ]
        },
        {
          "name": "stdout",
          "output_type": "stream",
          "text": [
            "Epoch 40   Training Loss: 18.653471\n"
          ]
        },
        {
          "name": "stderr",
          "output_type": "stream",
          "text": [
            "100%|██████████| 47/47 [00:23<00:00,  1.97it/s]\n"
          ]
        },
        {
          "name": "stdout",
          "output_type": "stream",
          "text": [
            "Epoch 41   Training Loss: 17.968016\n"
          ]
        },
        {
          "name": "stderr",
          "output_type": "stream",
          "text": [
            "100%|██████████| 47/47 [00:24<00:00,  1.95it/s]\n"
          ]
        },
        {
          "name": "stdout",
          "output_type": "stream",
          "text": [
            "Epoch 42   Training Loss: 17.472481\n"
          ]
        },
        {
          "name": "stderr",
          "output_type": "stream",
          "text": [
            "100%|██████████| 47/47 [00:24<00:00,  1.95it/s]\n"
          ]
        },
        {
          "name": "stdout",
          "output_type": "stream",
          "text": [
            "Epoch 43   Training Loss: 17.119585\n"
          ]
        },
        {
          "name": "stderr",
          "output_type": "stream",
          "text": [
            "100%|██████████| 47/47 [00:23<00:00,  2.00it/s]\n"
          ]
        },
        {
          "name": "stdout",
          "output_type": "stream",
          "text": [
            "Epoch 44   Training Loss: 16.872523\n"
          ]
        },
        {
          "name": "stderr",
          "output_type": "stream",
          "text": [
            "100%|██████████| 47/47 [00:23<00:00,  1.97it/s]\n"
          ]
        },
        {
          "name": "stdout",
          "output_type": "stream",
          "text": [
            "Epoch 45   Training Loss: 16.702901\n"
          ]
        },
        {
          "name": "stderr",
          "output_type": "stream",
          "text": [
            "100%|██████████| 47/47 [00:23<00:00,  1.98it/s]\n"
          ]
        },
        {
          "name": "stdout",
          "output_type": "stream",
          "text": [
            "Epoch 46   Training Loss: 16.589124\n"
          ]
        },
        {
          "name": "stderr",
          "output_type": "stream",
          "text": [
            "100%|██████████| 47/47 [00:23<00:00,  1.96it/s]\n"
          ]
        },
        {
          "name": "stdout",
          "output_type": "stream",
          "text": [
            "Epoch 47   Training Loss: 16.515042\n"
          ]
        },
        {
          "name": "stderr",
          "output_type": "stream",
          "text": [
            "100%|██████████| 47/47 [00:23<00:00,  1.97it/s]\n"
          ]
        },
        {
          "name": "stdout",
          "output_type": "stream",
          "text": [
            "Epoch 48   Training Loss: 16.468803\n"
          ]
        },
        {
          "name": "stderr",
          "output_type": "stream",
          "text": [
            "100%|██████████| 47/47 [00:23<00:00,  1.97it/s]\n"
          ]
        },
        {
          "name": "stdout",
          "output_type": "stream",
          "text": [
            "Epoch 49   Training Loss: 16.441820\n"
          ]
        },
        {
          "name": "stderr",
          "output_type": "stream",
          "text": [
            "100%|██████████| 47/47 [00:23<00:00,  1.97it/s]"
          ]
        },
        {
          "name": "stdout",
          "output_type": "stream",
          "text": [
            "Epoch 50   Training Loss: 16.427067\n"
          ]
        },
        {
          "name": "stderr",
          "output_type": "stream",
          "text": [
            "\n"
          ]
        }
      ],
      "source": [
        "num_epochs = 50\n",
        "loss_list_train = []\n",
        "\n",
        "for i in range(num_epochs):\n",
        "  lossy_list = []\n",
        "  for j, data in enumerate(tqdm(data_loader_train)):\n",
        "    X1, y1  = data\n",
        "    X1 = X1.float()\n",
        "    y1 = y1.float()\n",
        "    output = model(X1)\n",
        "    loss = criterion(output, y1)\n",
        "    torch.nn.utils.clip_grad_norm_(model.parameters(), max_norm=1.0)\n",
        "    loss.backward()\n",
        "    optimizer.step()\n",
        "    lossy_list.append(loss.data.tolist())\n",
        "\n",
        "  a = np.mean(np.array(lossy_list))\n",
        "  loss_list_train.append(a)\n",
        "  print (\"Epoch %d   Training Loss: %f\"% (i+1, a))"
      ]
    },
    {
      "cell_type": "code",
      "execution_count": 19,
      "metadata": {
        "id": "8Jf9zZz0xsEF"
      },
      "outputs": [],
      "source": [
        "# torch.save(model, 'CogNight_GRU.pth')\n",
        "# files.download('CogNight_GRU.pth')"
      ]
    },
    {
      "cell_type": "code",
      "execution_count": 20,
      "metadata": {
        "id": "-jdUkeWTF1QV"
      },
      "outputs": [],
      "source": [
        "X, y = np.array(df.iloc[:,:10]), np.array(df.iloc[:,10])\n",
        "X_val = X[int(len(X)*0.8):]\n",
        "y_val = y[int(len(y)*0.8):]\n",
        "X = torch.tensor(X_val)\n",
        "y = torch.tensor(y_val)\n",
        "sleep_data_val = SleepDataVal(X_val,y_val)\n",
        "data_loader_val = DataLoader(sleep_data_val, batch_size=32 , shuffle=True)"
      ]
    },
    {
      "cell_type": "code",
      "execution_count": 21,
      "metadata": {
        "id": "H6jkH-K8EBhj"
      },
      "outputs": [
        {
          "name": "stderr",
          "output_type": "stream",
          "text": [
            "  0%|          | 0/188 [00:00<?, ?it/s]c:\\Users\\91738\\anaconda3\\envs\\tf\\lib\\site-packages\\torch\\nn\\modules\\loss.py:530: UserWarning: Using a target size (torch.Size([32])) that is different to the input size (torch.Size([32, 1])). This will likely lead to incorrect results due to broadcasting. Please ensure they have the same size.\n",
            "  return F.mse_loss(input, target, reduction=self.reduction)\n",
            " 98%|█████████▊| 185/188 [00:01<00:00, 96.23it/s] c:\\Users\\91738\\anaconda3\\envs\\tf\\lib\\site-packages\\torch\\nn\\modules\\loss.py:530: UserWarning: Using a target size (torch.Size([16])) that is different to the input size (torch.Size([16, 1])). This will likely lead to incorrect results due to broadcasting. Please ensure they have the same size.\n",
            "  return F.mse_loss(input, target, reduction=self.reduction)\n",
            "100%|██████████| 188/188 [00:01<00:00, 97.65it/s]"
          ]
        },
        {
          "name": "stdout",
          "output_type": "stream",
          "text": [
            "\n",
            "23.383926396674298\n"
          ]
        },
        {
          "name": "stderr",
          "output_type": "stream",
          "text": [
            "\n"
          ]
        }
      ],
      "source": [
        "loss_list_val = []\n",
        "model.eval()\n",
        "for j, data in enumerate(tqdm(data_loader_val)):\n",
        "  X1, y1  = data\n",
        "  X1 = X1.float()\n",
        "  y1 = y1.float()\n",
        "  output = model(X1)\n",
        "  loss = criterion(output, y1)\n",
        "  loss_list_val.append(loss.data.tolist())\n",
        "\n",
        "kk = np.mean(np.array(loss_list_val))\n",
        "print()\n",
        "print(kk)"
      ]
    },
    {
      "cell_type": "code",
      "execution_count": 22,
      "metadata": {
        "id": "6U75vtmWuMA_"
      },
      "outputs": [
        {
          "name": "stdout",
          "output_type": "stream",
          "text": [
            "Layer: lstm1.weight_ih_l0, Gradient Norm: 1.5295465631906535e-12\n",
            "Layer: lstm1.weight_hh_l0, Gradient Norm: 1.3271895833892212e-21\n",
            "Layer: lstm1.bias_ih_l0, Gradient Norm: 2.165270455415066e-16\n",
            "Layer: lstm1.bias_hh_l0, Gradient Norm: 2.165270455415066e-16\n",
            "Layer: lstm1.weight_ih_l1, Gradient Norm: 3.6837964216829278e-06\n",
            "Layer: lstm1.weight_hh_l1, Gradient Norm: 3.7644797001856745e-11\n",
            "Layer: lstm1.bias_ih_l1, Gradient Norm: 2.6612012788973516e-06\n",
            "Layer: lstm1.bias_hh_l1, Gradient Norm: 2.6612012788973516e-06\n",
            "Layer: lstm1.weight_ih_l2, Gradient Norm: 4.087312390765874e-06\n",
            "Layer: lstm1.weight_hh_l2, Gradient Norm: 1.1388541498735805e-10\n",
            "Layer: lstm1.bias_ih_l2, Gradient Norm: 2.9063669444440166e-06\n",
            "Layer: lstm1.bias_hh_l2, Gradient Norm: 2.9063669444440166e-06\n",
            "Layer: fc1.weight, Gradient Norm: 8.986501597973984e-06\n",
            "Layer: fc1.bias, Gradient Norm: 5.301299097482115e-06\n",
            "Layer: lstm2.weight_ih_l0, Gradient Norm: 1.0307460797776002e-05\n",
            "Layer: lstm2.weight_hh_l0, Gradient Norm: 7.976262428321945e-10\n",
            "Layer: lstm2.bias_ih_l0, Gradient Norm: 1.3587526837000041e-06\n",
            "Layer: lstm2.bias_hh_l0, Gradient Norm: 1.3587526837000041e-06\n",
            "Layer: lstm2.weight_ih_l1, Gradient Norm: 0.004062035121023655\n",
            "Layer: lstm2.weight_hh_l1, Gradient Norm: 2.4030034637689823e-06\n",
            "Layer: lstm2.bias_ih_l1, Gradient Norm: 0.002016158541664481\n",
            "Layer: lstm2.bias_hh_l1, Gradient Norm: 0.0020161583088338375\n",
            "Layer: lstm2.weight_ih_l2, Gradient Norm: 0.022053763270378113\n",
            "Layer: lstm2.weight_hh_l2, Gradient Norm: 7.24881247151643e-05\n",
            "Layer: lstm2.bias_ih_l2, Gradient Norm: 0.010899736545979977\n",
            "Layer: lstm2.bias_hh_l2, Gradient Norm: 0.010899737477302551\n",
            "Layer: lstm2.weight_ih_l3, Gradient Norm: 0.12018270790576935\n",
            "Layer: lstm2.weight_hh_l3, Gradient Norm: 0.0040527344681322575\n",
            "Layer: lstm2.bias_ih_l3, Gradient Norm: 0.057867638766765594\n",
            "Layer: lstm2.bias_hh_l3, Gradient Norm: 0.0578676275908947\n",
            "Layer: fc2.weight, Gradient Norm: 1.7260667085647583\n",
            "Layer: fc2.bias, Gradient Norm: 1.1221294403076172\n"
          ]
        }
      ],
      "source": [
        "model.eval()\n",
        "\n",
        "output = model(X1)\n",
        "# Compute the gradients (backpropagation)\n",
        "lossy = criterion(output, y1)\n",
        "lossy.backward()\n",
        "\n",
        "\n",
        "for name, param in model.named_parameters():\n",
        "    if param.grad is not None:\n",
        "        print(f\"Layer: {name}, Gradient Norm: {param.grad.norm().item()}\")\n",
        "    else:\n",
        "        print(f\"Layer: {name}, Gradient: None (no gradient computed for this layer)\")"
      ]
    },
    {
      "cell_type": "code",
      "execution_count": 23,
      "metadata": {
        "id": "0063Kwj7FlVb"
      },
      "outputs": [
        {
          "name": "stdout",
          "output_type": "stream",
          "text": [
            "tensor(35.1888, grad_fn=<MseLossBackward0>)\n"
          ]
        }
      ],
      "source": [
        "print(lossy)"
      ]
    },
    {
      "cell_type": "code",
      "execution_count": 24,
      "metadata": {
        "id": "mCBx8krLMzTR"
      },
      "outputs": [
        {
          "data": {
            "text/plain": [
              "[<matplotlib.lines.Line2D at 0x1d7b0eb1ba0>]"
            ]
          },
          "execution_count": 24,
          "metadata": {},
          "output_type": "execute_result"
        },
        {
          "data": {
            "image/png": "[encoded data removed]",
            "text/plain": [
              "<Figure size 640x480 with 1 Axes>"
            ]
          },
          "metadata": {},
          "output_type": "display_data"
        }
      ],
      "source": [
        "plt.plot(loss_list_train)"
      ]
    },
    {
      "cell_type": "code",
      "execution_count": 25,
      "metadata": {
        "id": "BZTJrW6X40t6"
      },
      "outputs": [],
      "source": [
        "Xp = X.float()\n",
        "op = model.forward(Xp)"
      ]
    },
    {
      "cell_type": "code",
      "execution_count": 26,
      "metadata": {
        "id": "MLRO3BkD5Rt3"
      },
      "outputs": [],
      "source": [
        "opp = op.detach().numpy()"
      ]
    },
    {
      "cell_type": "code",
      "execution_count": 27,
      "metadata": {
        "id": "rNqmh4NQ5Fnf"
      },
      "outputs": [
        {
          "data": {
            "image/png": "[encoded data removed]",
            "text/plain": [
              "<Figure size 640x480 with 1 Axes>"
            ]
          },
          "metadata": {},
          "output_type": "display_data"
        }
      ],
      "source": [
        "plt.plot(y,label='actual')\n",
        "plt.plot(opp,label='predicted')\n",
        "plt.legend()\n",
        "plt.grid()\n",
        "plt.show()"
      ]
    },
    {
      "cell_type": "code",
      "execution_count": 28,
      "metadata": {
        "id": "n-LT9Ybs9Jk8"
      },
      "outputs": [
        {
          "data": {
            "image/png": "[encoded data removed]",
            "text/plain": [
              "<Figure size 640x480 with 1 Axes>"
            ]
          },
          "metadata": {},
          "output_type": "display_data"
        }
      ],
      "source": [
        "plt.plot(y[:100],label='actual')\n",
        "plt.plot(opp[:100],label='predicted')\n",
        "plt.legend()\n",
        "plt.grid()\n",
        "plt.show()"
      ]
    }
  ],
  "metadata": {
    "colab": {
      "provenance": []
    },
    "kernelspec": {
      "display_name": "Python 3",
      "name": "python3"
    },
    "language_info": {
      "codemirror_mode": {
        "name": "ipython",
        "version": 3
      },
      "file_extension": ".py",
      "mimetype": "text/x-python",
      "name": "python",
      "nbconvert_exporter": "python",
      "pygments_lexer": "ipython3",
      "version": "3.10.11"
    }
  },
  "nbformat": 4,
  "nbformat_minor": 0
}
