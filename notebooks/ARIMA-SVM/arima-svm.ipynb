{
 "cells": [
  {
   "cell_type": "code",
   "execution_count": 2,
   "metadata": {},
   "outputs": [],
   "source": [
    "import pandas as pd\n",
    "import numpy as np\n",
    "import matplotlib.pyplot as plt\n",
    "from sklearn.model_selection import train_test_split\n",
    "import torch\n",
    "import torch.nn as nn\n",
    "import torch.optim as optim\n",
    "from torch.utils.data import DataLoader\n",
    "from sklearn.preprocessing import MinMaxScaler\n",
    "from sklearn.metrics import mean_squared_error\n",
    "import warnings\n",
    "import pickle\n",
    "from sklearn import svm\n",
    "\n",
    "warnings.filterwarnings('ignore')"
   ]
  },
  {
   "cell_type": "code",
   "execution_count": 3,
   "metadata": {},
   "outputs": [
    {
     "data": {
      "text/plain": [
       "array([ 60.,  73.,  86.,  77.,  78.,  72.,  73.,  78.,  84.,  88.,  71.,\n",
       "        73.,  74.,  75.,  92.,  73.,  85.,  97.,  75.,  84., 100.,  75.,\n",
       "        87.,  81.,  77.,  76.,  87.,  85.,  90.,  68.,  86.,  88.,  66.,\n",
       "        65.,  86.,  72.,  69.,  69.,  62.,  68.,  71.,  87.,  68.,  65.,\n",
       "        71.,  87.,  94.,  83.,  99.,  53.,  58.,  78.,  86.,  88.,  72.,\n",
       "        84.,  54.,  92.,  66.,  87.,  72.,  84.,  80., 100.,  89.,  82.,\n",
       "        75.,  78.,  80., 100.,  94.,  81.,  86., 100.,  77.,  77., 100.,\n",
       "        73.,  71.,  72.,  77.,  86.,  94., 100.,  94.,  95.,  94.,  80.,\n",
       "        82.,  94.,  73.,  76.,  75.,  93.,  94.,  97.,  74.,  79.,  82.,\n",
       "        90.,  80.,  76.,  90.,  77.,  87.,  80.,  77.,  75.,  87.,  86.,\n",
       "        70.,  75.,  75.,  59.,  67.,  62.,  72.,  82.,  92.,  85.,  78.,\n",
       "        49.,  72.,  88.,  88.,  70.,  64.,  68.,  81.,  70.,  80.,  82.,\n",
       "        77.,  57.,  73.,  83.,  92.,  92.,  78.,  75.,  75.,  78.,  91.,\n",
       "        56.,  75.,  86., 100.,  87.,  96.,  88.,  95.,  68.,  94., 100.,\n",
       "        93., 100.,  84.,  80., 100.,  83.,  86.,  92.,  84., 100.,  99.,\n",
       "       100., 100.,  68., 100.,  80.,  94.,  66.,  80.,  87.,  89.,  83.,\n",
       "        70.,  76., 100.,  97.,  79.,  78.,  81.,  85.,  95.,  94.,  88.,\n",
       "        82.,  73.,  80.,  85., 100.,  82.,  78.,  73.,  79.,  81.,  60.,\n",
       "        79.,  68.,  68.,  61.,  75.,  70.,  75.,  72.,  67.,  73.,  75.,\n",
       "        85.,  67.,  82.,  75.,  79.,  87.,  86.,  79.,  78.,  72.,  80.,\n",
       "        84.,  68.,  74.,  96., 100.,  78.,  88.,  94.,  69.,  61.,  68.,\n",
       "        78.,  74.,  72.,  78.,  77.,  76.,  74.,  62.,  80.,  83.,  89.,\n",
       "        84.,  68.,  82.,  76.,  96.,  71.,  67.,  67.,  78.,  67.,  88.,\n",
       "        61.,  84.,  96.,  98.,  92.,  96.,  92.,  87.,  82.,  92.,  99.,\n",
       "        75.,  80.,  86.,  99.,  85.,  89.,  83.,  84.,  78.,  86.,  92.,\n",
       "       100.,  76.,  86.,  75.,  88., 100.,  91., 100.,  96.,  86.,  64.,\n",
       "        99.,  81.,  94.,  88.,  76.,  82.,  81.,  81.,  89.,  97.,  93.,\n",
       "        88.,  74.,  84.,  66.,  68.,  61.,  77.,  99.,  89.,  77.,  82.,\n",
       "        97.,  90.,  73.,  74.,  62.,  76., 100.,  89.,  80.,  67.,  91.,\n",
       "        55.,  61.,  71.,  94.,  72.,  90.,  96.,  83.,  89.,  50.,  62.,\n",
       "       100.,  48.,  94.,  91.,  59.,  70.,  71., 100.,  82.,  56.,  71.,\n",
       "        89.,  98.,  78.,  80.,  94.,  69.,  75., 100.,  95.,  57.,  68.,\n",
       "        91., 100.,  68.,  92.,  97.,  94.,  53.,  65.,  77.,  67.,  92.,\n",
       "        77., 100.,  68.,  91.,  78.,  65.,  69.,  88.,  84.,  80.,  73.,\n",
       "        87.,  77.,  65.,  69.,  85.,  68.,  80.,  87.,  79., 100.,  82.,\n",
       "        71.,  84.,  67.,  75.,  75.,  60.,  61.,  84.,  62.,  90., 100.,\n",
       "        75.,  59.,  78.,  70.,  74.,  46.,  75.,  70.,  55.,  68.,  67.,\n",
       "        86.,  87.,  56.,  85.,  53.,  65.,  80.,  77.,  76.,  96.,  56.,\n",
       "        91.,  74.,  72.,  83.,  93.,  92.,  61.,  86.,  82.,  84.,  81.,\n",
       "        64.,  72.,  85.,  82.,  77.,  96.,  86.,  81.,  69.,  77.,  73.,\n",
       "        76.,  84.,  79.,  66.,  65.,  67.,  79.,  81.,  91.,  77.,  91.,\n",
       "        69.,  70.,  69.,  89.,  82.,  85.,  82.,  69.,  94.,  94.,  84.,\n",
       "        75.,  78.,  92.,  61.,  74.,  83.,  79.,  84.,  97.,  75.,  57.,\n",
       "        83.,  97.,  89.,  81.,  97.,  68.,  89.,  70.,  61.,  91.,  89.,\n",
       "        76.,  79.,  70.,  76.,  84.,  82.,  82.,  72.,  74.,  84.,  92.,\n",
       "        75.,  82.,  77.,  80.,  81.,  71.,  91.,  87.,  78.,  75.,  76.,\n",
       "        78.,  92.,  76.,  87.,  74.,  77.,  93.,  92.,  93.,  79.,  83.,\n",
       "        72.,  87.,  92.,  88.,  70.,  90.,  91.,  84.,  70.,  64.,  75.,\n",
       "        84.,  90.,  62.,  85.,  71.,  94.,  65.,  68.,  58.,  77.,  70.,\n",
       "        79.,  97.,  75.,  63.,  78.,  69.,  58.,  78.,  72.,  78., 100.,\n",
       "        91.,  62.,  46.,  88.,  74.,  91.,  70.,  72.,  73.,  75.,  81.,\n",
       "        59.,  62.,  63.,  81.,  72.,  75.,  66.,  83.,  59.,  84.,  72.,\n",
       "        85.,  70.,  83.,  77.,  75.,  62.,  75.,  79.,  76.,  76.,  76.,\n",
       "        60.,  91.,  78.,  79.,  69.,  74.,  80.,  71.,  71.,  58.,  70.,\n",
       "        77., 100.,  72.,  87.,  73.,  82.,  87.,  69.,  87.,  77.,  79.,\n",
       "        67.,  78.,  80.,  78.,  84.,  75.,  82.,  99.,  95.,  77.,  76.,\n",
       "        95.,  90.,  59.,  63.,  93.,  82.,  76.,  66.,  67.,  73.,  65.,\n",
       "        80.,  69.,  63.,  62.,  71.,  51.,  59.,  60.,  85.,  79.,  66.,\n",
       "        80.,  85.,  90.,  91.,  80.,  77.,  69.,  78.,  71.,  71.,  84.,\n",
       "        78.,  84.,  65.,  71.,  84.,  74.,  78.,  74.,  78.,  79.,  73.,\n",
       "        75.,  79.,  71.,  81.,  87.,  81.,  73.,  74.,  75.,  74.,  76.,\n",
       "        87.,  62.,  82.,  71.,  87.,  85.,  76.,  83.,  81.,  79.,  73.,\n",
       "        84.,  78.,  77.,  79.,  65.,  74.,  71.,  79.,  59.,  71.,  79.,\n",
       "        74.,  79.,  74.,  79.,  69.,  69.,  69.,  71.,  79.,  74.,  59.,\n",
       "        79.,  74.,  74.,  69.,  79.,  76.,  68.,  82.,  77.,  85.,  85.,\n",
       "        65.,  81.,  83.,  86.,  72.,  88.,  97.,  77.,  83.,  71.,  78.,\n",
       "        80.,  87.,  74.,  89.,  82.,  83.,  94.,  88.,  92.,  81.,  77.,\n",
       "        79.,  62.,  65.,  74.,  90.,  91.,  83.,  86.,  83.,  79.,  60.,\n",
       "        64.,  82.,  49.,  75.,  69.,  97., 100.,  76.,  80.,  75.,  77.,\n",
       "       100.,  80.,  74.,  93.,  98.,  77.,  73.,  79.,  88.,  76.,  86.,\n",
       "        67.,  78., 100.,  85.,  79.,  80.,  76.,  94.,  72.,  75.,  82.,\n",
       "        85.,  70.,  88.,  75.,  57.,  80.,  62.,  73., 100.,  81.,  96.,\n",
       "        74.,  89.,  80.,  91.,  67.,  65.,  74.,  88., 100.,  94.,  79.,\n",
       "        65.,  80., 100.,  96.,  87.,  82.,  82.,  93.,  79.,  86.,  81.,\n",
       "        74.,  85.,  81.,  90.,  80.,  75.,  80.,  88.,  80.,  71.,  82.,\n",
       "       100.,  62.,  89.,  77.,  81.,  58.,  63.,  54.,  57.,  72.,  62.,\n",
       "        51.,  74.,  77.,  75.,  83.,  73.,  73.,  73.,  78.,  75.,  67.,\n",
       "        78.,  73.,  78.,  69.,  77.,  81.,  81.,  69.,  83.,  60.,  73.,\n",
       "        82.,  77.,  96.,  68.,  63.,  69.,  63.,  78.,  98.,  88.,  80.,\n",
       "        85.,  69.,  67.,  90.,  63.,  68.,  70.,  59.,  70.,  69.,  88.,\n",
       "        52.,  77.,  86.,  71.,  79.,  69.,  82.,  66.,  87.,  60.,  52.,\n",
       "        58.,  72.,  58.,  69.,  78.,  81.,  73.,  81.,  74.,  83.,  74.,\n",
       "        82.,  72.,  71.,  77.,  68.])"
      ]
     },
     "execution_count": 3,
     "metadata": {},
     "output_type": "execute_result"
    }
   ],
   "source": [
    "df = pd.read_csv('C:/Users/91738/Desktop/CogNight/input/sleepdata_2.csv')\n",
    "df['Sleep Quality'] = df['Sleep Quality'].str.rstrip('%').astype('float')\n",
    "df = df[df['Sleep Quality']>40]\n",
    "data = df['Sleep Quality'].copy().reset_index().drop('index',axis=1)\n",
    "df[['Date','Time']] = df['Start'].str.split(expand=True)\n",
    "data = df[['Date','Sleep Quality']].copy().reset_index().drop('index',axis=1)\n",
    "\n",
    "y = (data['Sleep Quality']).to_numpy()\n",
    "y"
   ]
  },
  {
   "cell_type": "markdown",
   "metadata": {},
   "source": [
    "ARIMA Model for Predicting Sleep Score (Efficiency)"
   ]
  },
  {
   "cell_type": "code",
   "execution_count": 4,
   "metadata": {},
   "outputs": [
    {
     "data": {
      "text/html": [
       "<table class=\"simpletable\">\n",
       "<caption>SARIMAX Results</caption>\n",
       "<tr>\n",
       "  <th>Dep. Variable:</th>           <td>y</td>        <th>  No. Observations:  </th>    <td>30006</td>  \n",
       "</tr>\n",
       "<tr>\n",
       "  <th>Model:</th>            <td>ARIMA(5, 4, 2)</td>  <th>  Log Likelihood     </th> <td>-92187.392</td>\n",
       "</tr>\n",
       "<tr>\n",
       "  <th>Date:</th>            <td>Mon, 27 Nov 2023</td> <th>  AIC                </th> <td>184390.784</td>\n",
       "</tr>\n",
       "<tr>\n",
       "  <th>Time:</th>                <td>07:49:03</td>     <th>  BIC                </th> <td>184457.256</td>\n",
       "</tr>\n",
       "<tr>\n",
       "  <th>Sample:</th>                  <td>0</td>        <th>  HQIC               </th> <td>184412.112</td>\n",
       "</tr>\n",
       "<tr>\n",
       "  <th></th>                     <td> - 30006</td>     <th>                     </th>      <td> </td>    \n",
       "</tr>\n",
       "<tr>\n",
       "  <th>Covariance Type:</th>        <td>opg</td>       <th>                     </th>      <td> </td>    \n",
       "</tr>\n",
       "</table>\n",
       "<table class=\"simpletable\">\n",
       "<tr>\n",
       "     <td></td>       <th>coef</th>     <th>std err</th>      <th>z</th>      <th>P>|z|</th>  <th>[0.025</th>    <th>0.975]</th>  \n",
       "</tr>\n",
       "<tr>\n",
       "  <th>ar.L1</th>  <td>   -1.4318</td> <td>    0.006</td> <td> -244.950</td> <td> 0.000</td> <td>   -1.443</td> <td>   -1.420</td>\n",
       "</tr>\n",
       "<tr>\n",
       "  <th>ar.L2</th>  <td>   -1.4476</td> <td>    0.010</td> <td> -152.346</td> <td> 0.000</td> <td>   -1.466</td> <td>   -1.429</td>\n",
       "</tr>\n",
       "<tr>\n",
       "  <th>ar.L3</th>  <td>   -1.1631</td> <td>    0.011</td> <td> -108.090</td> <td> 0.000</td> <td>   -1.184</td> <td>   -1.142</td>\n",
       "</tr>\n",
       "<tr>\n",
       "  <th>ar.L4</th>  <td>   -0.7170</td> <td>    0.009</td> <td>  -77.101</td> <td> 0.000</td> <td>   -0.735</td> <td>   -0.699</td>\n",
       "</tr>\n",
       "<tr>\n",
       "  <th>ar.L5</th>  <td>   -0.2827</td> <td>    0.006</td> <td>  -49.716</td> <td> 0.000</td> <td>   -0.294</td> <td>   -0.272</td>\n",
       "</tr>\n",
       "<tr>\n",
       "  <th>ma.L1</th>  <td>   -1.9994</td> <td>    0.006</td> <td> -309.285</td> <td> 0.000</td> <td>   -2.012</td> <td>   -1.987</td>\n",
       "</tr>\n",
       "<tr>\n",
       "  <th>ma.L2</th>  <td>    0.9998</td> <td>    0.006</td> <td>  156.730</td> <td> 0.000</td> <td>    0.987</td> <td>    1.012</td>\n",
       "</tr>\n",
       "<tr>\n",
       "  <th>sigma2</th> <td>   27.2887</td> <td>    0.303</td> <td>   90.040</td> <td> 0.000</td> <td>   26.695</td> <td>   27.883</td>\n",
       "</tr>\n",
       "</table>\n",
       "<table class=\"simpletable\">\n",
       "<tr>\n",
       "  <th>Ljung-Box (L1) (Q):</th>     <td>144.41</td> <th>  Jarque-Bera (JB):  </th> <td>60.75</td>\n",
       "</tr>\n",
       "<tr>\n",
       "  <th>Prob(Q):</th>                 <td>0.00</td>  <th>  Prob(JB):          </th> <td>0.00</td> \n",
       "</tr>\n",
       "<tr>\n",
       "  <th>Heteroskedasticity (H):</th>  <td>0.98</td>  <th>  Skew:              </th> <td>0.03</td> \n",
       "</tr>\n",
       "<tr>\n",
       "  <th>Prob(H) (two-sided):</th>     <td>0.35</td>  <th>  Kurtosis:          </th> <td>2.79</td> \n",
       "</tr>\n",
       "</table><br/><br/>Warnings:<br/>[1] Covariance matrix calculated using the outer product of gradients (complex-step)."
      ],
      "text/plain": [
       "<class 'statsmodels.iolib.summary.Summary'>\n",
       "\"\"\"\n",
       "                               SARIMAX Results                                \n",
       "==============================================================================\n",
       "Dep. Variable:                      y   No. Observations:                30006\n",
       "Model:                 ARIMA(5, 4, 2)   Log Likelihood              -92187.392\n",
       "Date:                Mon, 27 Nov 2023   AIC                         184390.784\n",
       "Time:                        07:49:03   BIC                         184457.256\n",
       "Sample:                             0   HQIC                        184412.112\n",
       "                              - 30006                                         \n",
       "Covariance Type:                  opg                                         \n",
       "==============================================================================\n",
       "                 coef    std err          z      P>|z|      [0.025      0.975]\n",
       "------------------------------------------------------------------------------\n",
       "ar.L1         -1.4318      0.006   -244.950      0.000      -1.443      -1.420\n",
       "ar.L2         -1.4476      0.010   -152.346      0.000      -1.466      -1.429\n",
       "ar.L3         -1.1631      0.011   -108.090      0.000      -1.184      -1.142\n",
       "ar.L4         -0.7170      0.009    -77.101      0.000      -0.735      -0.699\n",
       "ar.L5         -0.2827      0.006    -49.716      0.000      -0.294      -0.272\n",
       "ma.L1         -1.9994      0.006   -309.285      0.000      -2.012      -1.987\n",
       "ma.L2          0.9998      0.006    156.730      0.000       0.987       1.012\n",
       "sigma2        27.2887      0.303     90.040      0.000      26.695      27.883\n",
       "===================================================================================\n",
       "Ljung-Box (L1) (Q):                 144.41   Jarque-Bera (JB):                60.75\n",
       "Prob(Q):                              0.00   Prob(JB):                         0.00\n",
       "Heteroskedasticity (H):               0.98   Skew:                             0.03\n",
       "Prob(H) (two-sided):                  0.35   Kurtosis:                         2.79\n",
       "===================================================================================\n",
       "\n",
       "Warnings:\n",
       "[1] Covariance matrix calculated using the outer product of gradients (complex-step).\n",
       "\"\"\""
      ]
     },
     "execution_count": 4,
     "metadata": {},
     "output_type": "execute_result"
    }
   ],
   "source": [
    "arima = pickle.load(open('C:/Users/91738/Desktop/CogNight/models/arima.pkl','rb'))\n",
    "arima.summary()"
   ]
  },
  {
   "cell_type": "code",
   "execution_count": 5,
   "metadata": {},
   "outputs": [
    {
     "data": {
      "text/plain": [
       "array([67.94650761])"
      ]
     },
     "execution_count": 5,
     "metadata": {},
     "output_type": "execute_result"
    }
   ],
   "source": [
    "for i in range(3):\n",
    "    arima_fit = arima.extend(y)\n",
    "\n",
    "pred = arima_fit.forecast(1)\n",
    "pred"
   ]
  },
  {
   "cell_type": "markdown",
   "metadata": {},
   "source": [
    "SVM"
   ]
  },
  {
   "cell_type": "code",
   "execution_count": 6,
   "metadata": {},
   "outputs": [],
   "source": [
    "dfml = pd.read_csv('C:/Users/91738/Desktop/CogNight/input/Sleep_Efficiency.csv')\n",
    "\n",
    "dfml = dfml.drop(['Bedtime', 'Wakeup time', 'ID','REM sleep percentage','Deep sleep percentage','Light sleep percentage','Awakenings'] ,axis=1)\n",
    "dfml['Smoking status'] = dfml['Smoking status'].map({'Yes':1 ,'No':0})\n",
    "dfml['Gender'] = dfml['Gender'].map({'Male':1 ,'Female':0})\n",
    "cols = [i for i in dfml.columns if i not in [\"Sleep efficiency\",\"Sleep duration\"]]\n",
    "dfml = dfml.dropna()\n",
    "\n",
    "for col in cols:\n",
    "  dfml[col] = dfml[col].astype(int)\n",
    "  \n",
    "\n",
    "dfml = dfml.reset_index().drop('index',axis=1)\n",
    "dfml['Caffeine consumption'] = (dfml['Caffeine consumption']/25).astype(int)"
   ]
  },
  {
   "cell_type": "code",
   "execution_count": 7,
   "metadata": {},
   "outputs": [
    {
     "data": {
      "text/plain": [
       "Index(['Age', 'Gender', 'Sleep duration', 'Sleep efficiency',\n",
       "       'Caffeine consumption', 'Alcohol consumption', 'Smoking status',\n",
       "       'Exercise frequency'],\n",
       "      dtype='object')"
      ]
     },
     "execution_count": 7,
     "metadata": {},
     "output_type": "execute_result"
    }
   ],
   "source": [
    "dfml.columns"
   ]
  },
  {
   "cell_type": "code",
   "execution_count": 8,
   "metadata": {},
   "outputs": [
    {
     "data": {
      "text/html": [
       "<div>\n",
       "<style scoped>\n",
       "    .dataframe tbody tr th:only-of-type {\n",
       "        vertical-align: middle;\n",
       "    }\n",
       "\n",
       "    .dataframe tbody tr th {\n",
       "        vertical-align: top;\n",
       "    }\n",
       "\n",
       "    .dataframe thead th {\n",
       "        text-align: right;\n",
       "    }\n",
       "</style>\n",
       "<table border=\"1\" class=\"dataframe\">\n",
       "  <thead>\n",
       "    <tr style=\"text-align: right;\">\n",
       "      <th></th>\n",
       "      <th>Gender</th>\n",
       "      <th>Age</th>\n",
       "      <th>Smoking status</th>\n",
       "      <th>Alcohol consumption</th>\n",
       "      <th>Caffeine consumption</th>\n",
       "      <th>Exercise frequency</th>\n",
       "      <th>Sleep efficiency</th>\n",
       "      <th>Sleep duration</th>\n",
       "    </tr>\n",
       "  </thead>\n",
       "  <tbody>\n",
       "    <tr>\n",
       "      <th>0</th>\n",
       "      <td>0</td>\n",
       "      <td>65</td>\n",
       "      <td>1</td>\n",
       "      <td>0</td>\n",
       "      <td>0</td>\n",
       "      <td>3</td>\n",
       "      <td>0.88</td>\n",
       "      <td>6.0</td>\n",
       "    </tr>\n",
       "    <tr>\n",
       "      <th>1</th>\n",
       "      <td>1</td>\n",
       "      <td>69</td>\n",
       "      <td>1</td>\n",
       "      <td>3</td>\n",
       "      <td>0</td>\n",
       "      <td>3</td>\n",
       "      <td>0.66</td>\n",
       "      <td>7.0</td>\n",
       "    </tr>\n",
       "    <tr>\n",
       "      <th>2</th>\n",
       "      <td>0</td>\n",
       "      <td>40</td>\n",
       "      <td>0</td>\n",
       "      <td>0</td>\n",
       "      <td>0</td>\n",
       "      <td>3</td>\n",
       "      <td>0.89</td>\n",
       "      <td>8.0</td>\n",
       "    </tr>\n",
       "    <tr>\n",
       "      <th>3</th>\n",
       "      <td>0</td>\n",
       "      <td>40</td>\n",
       "      <td>1</td>\n",
       "      <td>5</td>\n",
       "      <td>2</td>\n",
       "      <td>1</td>\n",
       "      <td>0.51</td>\n",
       "      <td>6.0</td>\n",
       "    </tr>\n",
       "    <tr>\n",
       "      <th>4</th>\n",
       "      <td>1</td>\n",
       "      <td>57</td>\n",
       "      <td>0</td>\n",
       "      <td>3</td>\n",
       "      <td>0</td>\n",
       "      <td>3</td>\n",
       "      <td>0.76</td>\n",
       "      <td>8.0</td>\n",
       "    </tr>\n",
       "    <tr>\n",
       "      <th>...</th>\n",
       "      <td>...</td>\n",
       "      <td>...</td>\n",
       "      <td>...</td>\n",
       "      <td>...</td>\n",
       "      <td>...</td>\n",
       "      <td>...</td>\n",
       "      <td>...</td>\n",
       "      <td>...</td>\n",
       "    </tr>\n",
       "    <tr>\n",
       "      <th>402</th>\n",
       "      <td>0</td>\n",
       "      <td>30</td>\n",
       "      <td>1</td>\n",
       "      <td>2</td>\n",
       "      <td>2</td>\n",
       "      <td>1</td>\n",
       "      <td>0.53</td>\n",
       "      <td>7.5</td>\n",
       "    </tr>\n",
       "    <tr>\n",
       "      <th>403</th>\n",
       "      <td>0</td>\n",
       "      <td>27</td>\n",
       "      <td>0</td>\n",
       "      <td>0</td>\n",
       "      <td>0</td>\n",
       "      <td>5</td>\n",
       "      <td>0.91</td>\n",
       "      <td>7.5</td>\n",
       "    </tr>\n",
       "    <tr>\n",
       "      <th>404</th>\n",
       "      <td>1</td>\n",
       "      <td>52</td>\n",
       "      <td>0</td>\n",
       "      <td>0</td>\n",
       "      <td>1</td>\n",
       "      <td>3</td>\n",
       "      <td>0.74</td>\n",
       "      <td>6.0</td>\n",
       "    </tr>\n",
       "    <tr>\n",
       "      <th>405</th>\n",
       "      <td>1</td>\n",
       "      <td>45</td>\n",
       "      <td>0</td>\n",
       "      <td>0</td>\n",
       "      <td>0</td>\n",
       "      <td>3</td>\n",
       "      <td>0.76</td>\n",
       "      <td>7.0</td>\n",
       "    </tr>\n",
       "    <tr>\n",
       "      <th>406</th>\n",
       "      <td>1</td>\n",
       "      <td>18</td>\n",
       "      <td>0</td>\n",
       "      <td>0</td>\n",
       "      <td>2</td>\n",
       "      <td>1</td>\n",
       "      <td>0.63</td>\n",
       "      <td>7.5</td>\n",
       "    </tr>\n",
       "  </tbody>\n",
       "</table>\n",
       "<p>407 rows × 8 columns</p>\n",
       "</div>"
      ],
      "text/plain": [
       "     Gender  Age  Smoking status  Alcohol consumption  Caffeine consumption  \\\n",
       "0         0   65               1                    0                     0   \n",
       "1         1   69               1                    3                     0   \n",
       "2         0   40               0                    0                     0   \n",
       "3         0   40               1                    5                     2   \n",
       "4         1   57               0                    3                     0   \n",
       "..      ...  ...             ...                  ...                   ...   \n",
       "402       0   30               1                    2                     2   \n",
       "403       0   27               0                    0                     0   \n",
       "404       1   52               0                    0                     1   \n",
       "405       1   45               0                    0                     0   \n",
       "406       1   18               0                    0                     2   \n",
       "\n",
       "     Exercise frequency  Sleep efficiency  Sleep duration  \n",
       "0                     3              0.88             6.0  \n",
       "1                     3              0.66             7.0  \n",
       "2                     3              0.89             8.0  \n",
       "3                     1              0.51             6.0  \n",
       "4                     3              0.76             8.0  \n",
       "..                  ...               ...             ...  \n",
       "402                   1              0.53             7.5  \n",
       "403                   5              0.91             7.5  \n",
       "404                   3              0.74             6.0  \n",
       "405                   3              0.76             7.0  \n",
       "406                   1              0.63             7.5  \n",
       "\n",
       "[407 rows x 8 columns]"
      ]
     },
     "execution_count": 8,
     "metadata": {},
     "output_type": "execute_result"
    }
   ],
   "source": [
    "dfml = dfml[['Gender', 'Age', 'Smoking status', 'Alcohol consumption','Caffeine consumption', 'Exercise frequency', 'Sleep efficiency','Sleep duration']]\n",
    "dfml"
   ]
  },
  {
   "cell_type": "code",
   "execution_count": 9,
   "metadata": {},
   "outputs": [],
   "source": [
    "X = dfml.iloc[:,:-1]\n",
    "Y = dfml.iloc[:,-1]\n",
    "\n",
    "X_train, X_test, y_train, y_test = train_test_split(X, Y, test_size=0.2, random_state=42)"
   ]
  },
  {
   "cell_type": "code",
   "execution_count": 10,
   "metadata": {},
   "outputs": [
    {
     "data": {
      "text/plain": [
       "82"
      ]
     },
     "execution_count": 10,
     "metadata": {},
     "output_type": "execute_result"
    }
   ],
   "source": [
    "len(y_test)"
   ]
  },
  {
   "cell_type": "code",
   "execution_count": 16,
   "metadata": {},
   "outputs": [
    {
     "name": "stdout",
     "output_type": "stream",
     "text": [
      "0.757049298246468\n"
     ]
    }
   ],
   "source": [
    "from sklearn.svm import SVR\n",
    "\n",
    "svm = SVR(kernel='linear')\n",
    "svm.fit(X,Y)\n",
    "\n",
    "y_pred = svm.predict(X_test)\n",
    "err = mean_squared_error(y_test, y_pred)\n",
    "print(err)"
   ]
  },
  {
   "cell_type": "code",
   "execution_count": 19,
   "metadata": {},
   "outputs": [
    {
     "name": "stderr",
     "output_type": "stream",
     "text": [
      "No artists with labels found to put in legend.  Note that artists whose label start with an underscore are ignored when legend() is called with no argument.\n"
     ]
    },
    {
     "data": {
      "image/png": "[encoded data removed]",
      "text/plain": [
       "<Figure size 640x480 with 1 Axes>"
      ]
     },
     "metadata": {},
     "output_type": "display_data"
    }
   ],
   "source": [
    "plt.plot(y_pred)\n",
    "plt.plot(list(y_test))\n",
    "plt.title(\"Error in prediction (hrs)\")\n",
    "plt.legend()\n",
    "plt.show()"
   ]
  },
  {
   "cell_type": "code",
   "execution_count": 24,
   "metadata": {},
   "outputs": [
    {
     "name": "stdout",
     "output_type": "stream",
     "text": [
      "0.7212877696535173\n"
     ]
    }
   ],
   "source": [
    "from sklearn.svm import SVR\n",
    "\n",
    "svm = SVR(kernel='rbf')\n",
    "svm.fit(X,Y)\n",
    "\n",
    "y_pred = svm.predict(X_test)\n",
    "err = mean_squared_error(y_test, y_pred)\n",
    "print(err)"
   ]
  },
  {
   "cell_type": "code",
   "execution_count": 25,
   "metadata": {},
   "outputs": [
    {
     "name": "stderr",
     "output_type": "stream",
     "text": [
      "No artists with labels found to put in legend.  Note that artists whose label start with an underscore are ignored when legend() is called with no argument.\n"
     ]
    },
    {
     "data": {
      "image/png": "[encoded data removed]",
      "text/plain": [
       "<Figure size 640x480 with 1 Axes>"
      ]
     },
     "metadata": {},
     "output_type": "display_data"
    }
   ],
   "source": [
    "plt.plot(y_pred)\n",
    "plt.plot(list(y_test))\n",
    "plt.title(\"Error in prediction (hrs)\")\n",
    "plt.legend(['y_pred','y_test'])\n",
    "plt.show()"
   ]
  },
  {
   "cell_type": "markdown",
   "metadata": {},
   "source": [
    "COMBINING THE RESULTS"
   ]
  },
  {
   "cell_type": "code",
   "execution_count": 20,
   "metadata": {},
   "outputs": [
    {
     "name": "stdout",
     "output_type": "stream",
     "text": [
      "Insert your sleep quality for last 5 days (out of 100%).\n"
     ]
    },
    {
     "ename": "ValueError",
     "evalue": "invalid literal for int() with base 10: ''",
     "output_type": "error",
     "traceback": [
      "\u001b[1;31m---------------------------------------------------------------------------\u001b[0m",
      "\u001b[1;31mValueError\u001b[0m                                Traceback (most recent call last)",
      "Cell \u001b[1;32mIn[20], line 4\u001b[0m\n\u001b[0;32m      2\u001b[0m sq_in \u001b[39m=\u001b[39m []\n\u001b[0;32m      3\u001b[0m \u001b[39mfor\u001b[39;00m i \u001b[39min\u001b[39;00m \u001b[39mrange\u001b[39m(\u001b[39m5\u001b[39m):\n\u001b[1;32m----> 4\u001b[0m     sq_in\u001b[39m.\u001b[39mappend(\u001b[39mint\u001b[39;49m(\u001b[39minput\u001b[39;49m()))\n\u001b[0;32m      6\u001b[0m sq_in \u001b[39m=\u001b[39m np\u001b[39m.\u001b[39marray(sq_in)\n\u001b[0;32m      8\u001b[0m \u001b[39mfor\u001b[39;00m i \u001b[39min\u001b[39;00m \u001b[39mrange\u001b[39m(\u001b[39m3\u001b[39m):\n",
      "\u001b[1;31mValueError\u001b[0m: invalid literal for int() with base 10: ''"
     ]
    }
   ],
   "source": [
    "print(\"Insert your sleep quality for last 5 days (out of 100%).\")\n",
    "sq_in = []\n",
    "for i in range(5):\n",
    "    sq_in.append(int(input()))\n",
    "\n",
    "sq_in = np.array(sq_in)\n",
    "\n",
    "for i in range(3):\n",
    "    arima_fit = arima_fit.extend(sq_in)\n",
    "\n",
    "sq = arima_fit.forecast(1)\n",
    "print(\"Predicted sleep quality for today is: \",sq)"
   ]
  },
  {
   "cell_type": "code",
   "execution_count": null,
   "metadata": {},
   "outputs": [
    {
     "name": "stdout",
     "output_type": "stream",
     "text": [
      "You need to sleep for: 7.94 Hours\n"
     ]
    }
   ],
   "source": [
    "age = int(input(\"Age:\"))\n",
    "age = (69-age)/60\n",
    "gender = int(input(\"Gender(1 for male, 0 for female):\"))\n",
    "caff = int(input(\"Caffeine(on a scale of 0 to 10):\"))\n",
    "alc = int(input(\"Alcohol(on a scale of 0 to 5):\"))\n",
    "smoke = int(input(\"Smoking status(0 for No, 1 for Yes):\"))\n",
    "exer = int(input(\"Exercise(on a scale of 0 to 5:)\"))\n",
    "\n",
    "'Gender', 'Age', 'Smoking status', 'Alcohol consumption','Caffeine consumption', 'Exercise frequency'\n",
    "user_input = np.array([gender, age, smoke, alc, caff, exer, sq/100])\n",
    "user_input = np.reshape(user_input,(1,-1))\n",
    "\n",
    "y_pred_2 = svm.predict(user_input)\n",
    "\n",
    "print(\"You need to sleep for: %.2f Hours\" % (y_pred_2.item()))"
   ]
  }
 ],
 "metadata": {
  "kernelspec": {
   "display_name": "tf",
   "language": "python",
   "name": "python3"
  },
  "language_info": {
   "codemirror_mode": {
    "name": "ipython",
    "version": 3
   },
   "file_extension": ".py",
   "mimetype": "text/x-python",
   "name": "python",
   "nbconvert_exporter": "python",
   "pygments_lexer": "ipython3",
   "version": "3.10.11"
  }
 },
 "nbformat": 4,
 "nbformat_minor": 2
}
