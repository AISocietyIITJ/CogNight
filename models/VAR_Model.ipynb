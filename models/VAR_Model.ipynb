{
 "cells": [
  {
   "cell_type": "code",
   "execution_count": 1,
   "metadata": {
    "id": "a5iTRVhV3YzF"
   },
   "outputs": [],
   "source": [
    "import pandas as pd\n",
    "from datetime import datetime\n",
    "import matplotlib.pyplot as plt\n",
    "from statsmodels.graphics.tsaplots import plot_acf, plot_pacf\n",
    "from statsmodels.tsa.api import VAR\n",
    "from scipy.stats import pearsonr"
   ]
  },
  {
   "cell_type": "markdown",
   "metadata": {
    "id": "1_B0oEVA3YzH"
   },
   "source": [
    "# Read the Data"
   ]
  },
  {
   "cell_type": "code",
   "execution_count": 2,
   "metadata": {
    "id": "rqfKcjn83YzI"
   },
   "outputs": [],
   "source": [
    "def parser(s):\n",
    "    return datetime.strptime(s, '%Y-%m')"
   ]
  },
  {
   "cell_type": "code",
   "execution_count": 3,
   "metadata": {
    "id": "XjlXHPJT3YzJ"
   },
   "outputs": [
    {
     "name": "stderr",
     "output_type": "stream",
     "text": [
      "C:\\Users\\91738\\AppData\\Local\\Temp\\ipykernel_2344\\3047748669.py:1: FutureWarning: The squeeze argument has been deprecated and will be removed in a future version. Append .squeeze(\"columns\") to the call to squeeze.\n",
      "\n",
      "\n",
      "  ice_cream_heater_df = pd.read_csv('ice_cream_vs_heater.csv', parse_dates=[0], index_col=0, squeeze=True, date_parser=parser)\n"
     ]
    },
    {
     "ename": "FileNotFoundError",
     "evalue": "[Errno 2] No such file or directory: 'ice_cream_vs_heater.csv'",
     "output_type": "error",
     "traceback": [
      "\u001b[1;31m---------------------------------------------------------------------------\u001b[0m",
      "\u001b[1;31mFileNotFoundError\u001b[0m                         Traceback (most recent call last)",
      "\u001b[1;32m~\\AppData\\Local\\Temp\\ipykernel_2344\\3047748669.py\u001b[0m in \u001b[0;36m<module>\u001b[1;34m\u001b[0m\n\u001b[1;32m----> 1\u001b[1;33m \u001b[0mice_cream_heater_df\u001b[0m \u001b[1;33m=\u001b[0m \u001b[0mpd\u001b[0m\u001b[1;33m.\u001b[0m\u001b[0mread_csv\u001b[0m\u001b[1;33m(\u001b[0m\u001b[1;34m'ice_cream_vs_heater.csv'\u001b[0m\u001b[1;33m,\u001b[0m \u001b[0mparse_dates\u001b[0m\u001b[1;33m=\u001b[0m\u001b[1;33m[\u001b[0m\u001b[1;36m0\u001b[0m\u001b[1;33m]\u001b[0m\u001b[1;33m,\u001b[0m \u001b[0mindex_col\u001b[0m\u001b[1;33m=\u001b[0m\u001b[1;36m0\u001b[0m\u001b[1;33m,\u001b[0m \u001b[0msqueeze\u001b[0m\u001b[1;33m=\u001b[0m\u001b[1;32mTrue\u001b[0m\u001b[1;33m,\u001b[0m \u001b[0mdate_parser\u001b[0m\u001b[1;33m=\u001b[0m\u001b[0mparser\u001b[0m\u001b[1;33m)\u001b[0m\u001b[1;33m\u001b[0m\u001b[1;33m\u001b[0m\u001b[0m\n\u001b[0m",
      "\u001b[1;32m~\\anaconda3\\lib\\site-packages\\pandas\\util\\_decorators.py\u001b[0m in \u001b[0;36mwrapper\u001b[1;34m(*args, **kwargs)\u001b[0m\n\u001b[0;32m    309\u001b[0m                     \u001b[0mstacklevel\u001b[0m\u001b[1;33m=\u001b[0m\u001b[0mstacklevel\u001b[0m\u001b[1;33m,\u001b[0m\u001b[1;33m\u001b[0m\u001b[1;33m\u001b[0m\u001b[0m\n\u001b[0;32m    310\u001b[0m                 )\n\u001b[1;32m--> 311\u001b[1;33m             \u001b[1;32mreturn\u001b[0m \u001b[0mfunc\u001b[0m\u001b[1;33m(\u001b[0m\u001b[1;33m*\u001b[0m\u001b[0margs\u001b[0m\u001b[1;33m,\u001b[0m \u001b[1;33m**\u001b[0m\u001b[0mkwargs\u001b[0m\u001b[1;33m)\u001b[0m\u001b[1;33m\u001b[0m\u001b[1;33m\u001b[0m\u001b[0m\n\u001b[0m\u001b[0;32m    312\u001b[0m \u001b[1;33m\u001b[0m\u001b[0m\n\u001b[0;32m    313\u001b[0m         \u001b[1;32mreturn\u001b[0m \u001b[0mwrapper\u001b[0m\u001b[1;33m\u001b[0m\u001b[1;33m\u001b[0m\u001b[0m\n",
      "\u001b[1;32m~\\anaconda3\\lib\\site-packages\\pandas\\io\\parsers\\readers.py\u001b[0m in \u001b[0;36mread_csv\u001b[1;34m(filepath_or_buffer, sep, delimiter, header, names, index_col, usecols, squeeze, prefix, mangle_dupe_cols, dtype, engine, converters, true_values, false_values, skipinitialspace, skiprows, skipfooter, nrows, na_values, keep_default_na, na_filter, verbose, skip_blank_lines, parse_dates, infer_datetime_format, keep_date_col, date_parser, dayfirst, cache_dates, iterator, chunksize, compression, thousands, decimal, lineterminator, quotechar, quoting, doublequote, escapechar, comment, encoding, encoding_errors, dialect, error_bad_lines, warn_bad_lines, on_bad_lines, delim_whitespace, low_memory, memory_map, float_precision, storage_options)\u001b[0m\n\u001b[0;32m    676\u001b[0m     \u001b[0mkwds\u001b[0m\u001b[1;33m.\u001b[0m\u001b[0mupdate\u001b[0m\u001b[1;33m(\u001b[0m\u001b[0mkwds_defaults\u001b[0m\u001b[1;33m)\u001b[0m\u001b[1;33m\u001b[0m\u001b[1;33m\u001b[0m\u001b[0m\n\u001b[0;32m    677\u001b[0m \u001b[1;33m\u001b[0m\u001b[0m\n\u001b[1;32m--> 678\u001b[1;33m     \u001b[1;32mreturn\u001b[0m \u001b[0m_read\u001b[0m\u001b[1;33m(\u001b[0m\u001b[0mfilepath_or_buffer\u001b[0m\u001b[1;33m,\u001b[0m \u001b[0mkwds\u001b[0m\u001b[1;33m)\u001b[0m\u001b[1;33m\u001b[0m\u001b[1;33m\u001b[0m\u001b[0m\n\u001b[0m\u001b[0;32m    679\u001b[0m \u001b[1;33m\u001b[0m\u001b[0m\n\u001b[0;32m    680\u001b[0m \u001b[1;33m\u001b[0m\u001b[0m\n",
      "\u001b[1;32m~\\anaconda3\\lib\\site-packages\\pandas\\io\\parsers\\readers.py\u001b[0m in \u001b[0;36m_read\u001b[1;34m(filepath_or_buffer, kwds)\u001b[0m\n\u001b[0;32m    573\u001b[0m \u001b[1;33m\u001b[0m\u001b[0m\n\u001b[0;32m    574\u001b[0m     \u001b[1;31m# Create the parser.\u001b[0m\u001b[1;33m\u001b[0m\u001b[1;33m\u001b[0m\u001b[0m\n\u001b[1;32m--> 575\u001b[1;33m     \u001b[0mparser\u001b[0m \u001b[1;33m=\u001b[0m \u001b[0mTextFileReader\u001b[0m\u001b[1;33m(\u001b[0m\u001b[0mfilepath_or_buffer\u001b[0m\u001b[1;33m,\u001b[0m \u001b[1;33m**\u001b[0m\u001b[0mkwds\u001b[0m\u001b[1;33m)\u001b[0m\u001b[1;33m\u001b[0m\u001b[1;33m\u001b[0m\u001b[0m\n\u001b[0m\u001b[0;32m    576\u001b[0m \u001b[1;33m\u001b[0m\u001b[0m\n\u001b[0;32m    577\u001b[0m     \u001b[1;32mif\u001b[0m \u001b[0mchunksize\u001b[0m \u001b[1;32mor\u001b[0m \u001b[0miterator\u001b[0m\u001b[1;33m:\u001b[0m\u001b[1;33m\u001b[0m\u001b[1;33m\u001b[0m\u001b[0m\n",
      "\u001b[1;32m~\\anaconda3\\lib\\site-packages\\pandas\\io\\parsers\\readers.py\u001b[0m in \u001b[0;36m__init__\u001b[1;34m(self, f, engine, **kwds)\u001b[0m\n\u001b[0;32m    930\u001b[0m \u001b[1;33m\u001b[0m\u001b[0m\n\u001b[0;32m    931\u001b[0m         \u001b[0mself\u001b[0m\u001b[1;33m.\u001b[0m\u001b[0mhandles\u001b[0m\u001b[1;33m:\u001b[0m \u001b[0mIOHandles\u001b[0m \u001b[1;33m|\u001b[0m \u001b[1;32mNone\u001b[0m \u001b[1;33m=\u001b[0m \u001b[1;32mNone\u001b[0m\u001b[1;33m\u001b[0m\u001b[1;33m\u001b[0m\u001b[0m\n\u001b[1;32m--> 932\u001b[1;33m         \u001b[0mself\u001b[0m\u001b[1;33m.\u001b[0m\u001b[0m_engine\u001b[0m \u001b[1;33m=\u001b[0m \u001b[0mself\u001b[0m\u001b[1;33m.\u001b[0m\u001b[0m_make_engine\u001b[0m\u001b[1;33m(\u001b[0m\u001b[0mf\u001b[0m\u001b[1;33m,\u001b[0m \u001b[0mself\u001b[0m\u001b[1;33m.\u001b[0m\u001b[0mengine\u001b[0m\u001b[1;33m)\u001b[0m\u001b[1;33m\u001b[0m\u001b[1;33m\u001b[0m\u001b[0m\n\u001b[0m\u001b[0;32m    933\u001b[0m \u001b[1;33m\u001b[0m\u001b[0m\n\u001b[0;32m    934\u001b[0m     \u001b[1;32mdef\u001b[0m \u001b[0mclose\u001b[0m\u001b[1;33m(\u001b[0m\u001b[0mself\u001b[0m\u001b[1;33m)\u001b[0m\u001b[1;33m:\u001b[0m\u001b[1;33m\u001b[0m\u001b[1;33m\u001b[0m\u001b[0m\n",
      "\u001b[1;32m~\\anaconda3\\lib\\site-packages\\pandas\\io\\parsers\\readers.py\u001b[0m in \u001b[0;36m_make_engine\u001b[1;34m(self, f, engine)\u001b[0m\n\u001b[0;32m   1214\u001b[0m             \u001b[1;31m# \"Union[str, PathLike[str], ReadCsvBuffer[bytes], ReadCsvBuffer[str]]\"\u001b[0m\u001b[1;33m\u001b[0m\u001b[1;33m\u001b[0m\u001b[0m\n\u001b[0;32m   1215\u001b[0m             \u001b[1;31m# , \"str\", \"bool\", \"Any\", \"Any\", \"Any\", \"Any\", \"Any\"\u001b[0m\u001b[1;33m\u001b[0m\u001b[1;33m\u001b[0m\u001b[0m\n\u001b[1;32m-> 1216\u001b[1;33m             self.handles = get_handle(  # type: ignore[call-overload]\n\u001b[0m\u001b[0;32m   1217\u001b[0m                 \u001b[0mf\u001b[0m\u001b[1;33m,\u001b[0m\u001b[1;33m\u001b[0m\u001b[1;33m\u001b[0m\u001b[0m\n\u001b[0;32m   1218\u001b[0m                 \u001b[0mmode\u001b[0m\u001b[1;33m,\u001b[0m\u001b[1;33m\u001b[0m\u001b[1;33m\u001b[0m\u001b[0m\n",
      "\u001b[1;32m~\\anaconda3\\lib\\site-packages\\pandas\\io\\common.py\u001b[0m in \u001b[0;36mget_handle\u001b[1;34m(path_or_buf, mode, encoding, compression, memory_map, is_text, errors, storage_options)\u001b[0m\n\u001b[0;32m    784\u001b[0m         \u001b[1;32mif\u001b[0m \u001b[0mioargs\u001b[0m\u001b[1;33m.\u001b[0m\u001b[0mencoding\u001b[0m \u001b[1;32mand\u001b[0m \u001b[1;34m\"b\"\u001b[0m \u001b[1;32mnot\u001b[0m \u001b[1;32min\u001b[0m \u001b[0mioargs\u001b[0m\u001b[1;33m.\u001b[0m\u001b[0mmode\u001b[0m\u001b[1;33m:\u001b[0m\u001b[1;33m\u001b[0m\u001b[1;33m\u001b[0m\u001b[0m\n\u001b[0;32m    785\u001b[0m             \u001b[1;31m# Encoding\u001b[0m\u001b[1;33m\u001b[0m\u001b[1;33m\u001b[0m\u001b[0m\n\u001b[1;32m--> 786\u001b[1;33m             handle = open(\n\u001b[0m\u001b[0;32m    787\u001b[0m                 \u001b[0mhandle\u001b[0m\u001b[1;33m,\u001b[0m\u001b[1;33m\u001b[0m\u001b[1;33m\u001b[0m\u001b[0m\n\u001b[0;32m    788\u001b[0m                 \u001b[0mioargs\u001b[0m\u001b[1;33m.\u001b[0m\u001b[0mmode\u001b[0m\u001b[1;33m,\u001b[0m\u001b[1;33m\u001b[0m\u001b[1;33m\u001b[0m\u001b[0m\n",
      "\u001b[1;31mFileNotFoundError\u001b[0m: [Errno 2] No such file or directory: 'ice_cream_vs_heater.csv'"
     ]
    }
   ],
   "source": [
    "ice_cream_heater_df = pd.read_csv('ice_cream_vs_heater.csv', parse_dates=[0], index_col=0, squeeze=True, date_parser=parser)"
   ]
  },
  {
   "cell_type": "code",
   "execution_count": null,
   "metadata": {
    "id": "CMKFJMQu3YzJ"
   },
   "outputs": [],
   "source": [
    "ice_cream_heater_df = ice_cream_heater_df.asfreq(pd.infer_freq(ice_cream_heater_df.index))"
   ]
  },
  {
   "cell_type": "code",
   "execution_count": null,
   "metadata": {
    "id": "CQYNw-MT3YzJ",
    "outputId": "27b0f2a3-e503-4009-b2a0-f18c8bd85bef"
   },
   "outputs": [],
   "source": [
    "plt.figure(figsize=(12,6))\n",
    "ice_cream, = plt.plot(ice_cream_heater_df['ice cream'])\n",
    "heater, = plt.plot(ice_cream_heater_df['heater'], color='red')\n",
    "\n",
    "for year in range(2004, 2021):\n",
    "    plt.axvline(datetime(year,1,1), linestyle='--', color='k', alpha=0.5)\n",
    "\n",
    "plt.legend(['Ice Cream', 'Heater'], fontsize=16)"
   ]
  },
  {
   "cell_type": "markdown",
   "metadata": {
    "id": "MwRIQJup3YzK"
   },
   "source": [
    "# Normalize"
   ]
  },
  {
   "cell_type": "code",
   "execution_count": null,
   "metadata": {
    "id": "mszZSMST3YzK"
   },
   "outputs": [],
   "source": [
    "avgs = ice_cream_heater_df.mean()\n",
    "devs = ice_cream_heater_df.std()"
   ]
  },
  {
   "cell_type": "code",
   "execution_count": null,
   "metadata": {
    "id": "TKRuBIq73YzL"
   },
   "outputs": [],
   "source": [
    "for col in ice_cream_heater_df.columns:\n",
    "    ice_cream_heater_df[col] = (ice_cream_heater_df[col] - avgs.loc[col]) / devs.loc[col]"
   ]
  },
  {
   "cell_type": "code",
   "execution_count": null,
   "metadata": {
    "id": "PkzDbvh93YzL",
    "outputId": "64552fec-8ec0-4db7-df23-4565815d7c80"
   },
   "outputs": [],
   "source": [
    "plt.figure(figsize=(12,6))\n",
    "ice_cream, = plt.plot(ice_cream_heater_df['ice cream'])\n",
    "heater, = plt.plot(ice_cream_heater_df['heater'], color='red')\n",
    "\n",
    "for year in range(2004, 2021):\n",
    "    plt.axvline(datetime(year,1,1), linestyle='--', color='k', alpha=0.5)\n",
    "\n",
    "plt.axhline(0, linestyle='--', color='k', alpha=0.3)\n",
    "\n",
    "plt.legend(['Ice Cream', 'Heater'], fontsize=16)"
   ]
  },
  {
   "cell_type": "markdown",
   "metadata": {
    "id": "1cYuVM7N3YzL"
   },
   "source": [
    "# Take First Difference to Remove Trend"
   ]
  },
  {
   "cell_type": "code",
   "execution_count": null,
   "metadata": {
    "id": "dWsAjX9v3YzM"
   },
   "outputs": [],
   "source": [
    "ice_cream_heater_df = ice_cream_heater_df.diff().dropna()"
   ]
  },
  {
   "cell_type": "code",
   "execution_count": null,
   "metadata": {
    "id": "TZwluwR93YzM",
    "outputId": "ba220ed9-e1af-4d7c-e6bf-9d4514369695"
   },
   "outputs": [],
   "source": [
    "plt.figure(figsize=(12,6))\n",
    "ice_cream, = plt.plot(ice_cream_heater_df['ice cream'])\n",
    "heater, = plt.plot(ice_cream_heater_df['heater'], color='red')\n",
    "\n",
    "for year in range(2004, 2021):\n",
    "    plt.axvline(datetime(year,1,1), linestyle='--', color='k', alpha=0.5)\n",
    "\n",
    "plt.axhline(0, linestyle='--', color='k', alpha=0.3)\n",
    "plt.ylabel('First Difference', fontsize=18)\n",
    "\n",
    "plt.legend(['Ice Cream', 'Heater'], fontsize=16)"
   ]
  },
  {
   "cell_type": "code",
   "execution_count": null,
   "metadata": {
    "id": "tLVEUlRe3YzM",
    "outputId": "b8f71237-9c05-4a70-fc5b-446886c4b9a9"
   },
   "outputs": [],
   "source": [
    "plt.figure(figsize=(12,6))\n",
    "ice_cream, = plt.plot(ice_cream_heater_df['ice cream'])\n",
    "\n",
    "for year in range(2004, 2021):\n",
    "    plt.axvline(datetime(year,1,1), linestyle='--', color='k', alpha=0.5)\n",
    "\n",
    "plt.axhline(0, linestyle='--', color='k', alpha=0.3)\n",
    "plt.ylabel('First Difference', fontsize=18)\n",
    "\n",
    "plt.legend(['Ice Cream'], fontsize=16)"
   ]
  },
  {
   "cell_type": "markdown",
   "metadata": {
    "id": "TbMFZ36b3YzM"
   },
   "source": [
    "# Remove Increasing Volatility"
   ]
  },
  {
   "cell_type": "code",
   "execution_count": null,
   "metadata": {
    "id": "ukK1kGYG3YzM"
   },
   "outputs": [],
   "source": [
    "annual_volatility = ice_cream_heater_df.groupby(ice_cream_heater_df.index.year).std()"
   ]
  },
  {
   "cell_type": "code",
   "execution_count": null,
   "metadata": {
    "id": "gQK27FJs3YzM",
    "outputId": "b03c8ed0-9f9b-450f-ef79-aa9eb4ece352"
   },
   "outputs": [],
   "source": [
    "annual_volatility"
   ]
  },
  {
   "cell_type": "code",
   "execution_count": null,
   "metadata": {
    "id": "kRKaOGoD3YzM"
   },
   "outputs": [],
   "source": [
    "ice_cream_heater_df['ice_cream_annual_vol'] = ice_cream_heater_df.index.map(lambda d: annual_volatility.loc[d.year, 'ice cream'])\n",
    "ice_cream_heater_df['heater_annual_vol'] = ice_cream_heater_df.index.map(lambda d: annual_volatility.loc[d.year, 'heater'])"
   ]
  },
  {
   "cell_type": "code",
   "execution_count": null,
   "metadata": {
    "id": "AIFF7Myk3YzN",
    "outputId": "c73c0b2a-f309-41ce-d317-ae98957ffbdc"
   },
   "outputs": [],
   "source": [
    "ice_cream_heater_df"
   ]
  },
  {
   "cell_type": "code",
   "execution_count": null,
   "metadata": {
    "id": "Uab2jUAd3YzN"
   },
   "outputs": [],
   "source": [
    "ice_cream_heater_df['ice cream'] = ice_cream_heater_df['ice cream'] / ice_cream_heater_df['ice_cream_annual_vol']\n",
    "ice_cream_heater_df['heater'] = ice_cream_heater_df['heater'] / ice_cream_heater_df['heater_annual_vol']"
   ]
  },
  {
   "cell_type": "code",
   "execution_count": null,
   "metadata": {
    "id": "78jXB6pD3YzN",
    "outputId": "d774b036-342a-4b9e-d86c-280618951b6e"
   },
   "outputs": [],
   "source": [
    "plt.figure(figsize=(12,6))\n",
    "ice_cream, = plt.plot(ice_cream_heater_df['ice cream'])\n",
    "\n",
    "for year in range(2004, 2021):\n",
    "    plt.axvline(datetime(year,1,1), linestyle='--', color='k', alpha=0.5)\n",
    "\n",
    "plt.axhline(0, linestyle='--', color='k', alpha=0.3)\n",
    "plt.ylabel('First Difference', fontsize=18)\n",
    "\n",
    "plt.legend(['Ice Cream'], fontsize=16)"
   ]
  },
  {
   "cell_type": "code",
   "execution_count": null,
   "metadata": {
    "id": "1BCvvAsL3YzN",
    "outputId": "3bc2c24d-882e-4c9e-83df-774c9f48891a"
   },
   "outputs": [],
   "source": [
    "plt.figure(figsize=(12,6))\n",
    "ice_cream, = plt.plot(ice_cream_heater_df['ice cream'])\n",
    "heater, = plt.plot(ice_cream_heater_df['heater'], color='red')\n",
    "\n",
    "for year in range(2004, 2021):\n",
    "    plt.axvline(datetime(year,1,1), linestyle='--', color='k', alpha=0.5)\n",
    "\n",
    "plt.axhline(0, linestyle='--', color='k', alpha=0.3)\n",
    "plt.ylabel('First Difference', fontsize=18)\n",
    "\n",
    "plt.legend(['Ice Cream', 'Heater'], fontsize=16)"
   ]
  },
  {
   "cell_type": "markdown",
   "metadata": {
    "id": "1SWEcEDL3YzN"
   },
   "source": [
    "# Remove Seasonality"
   ]
  },
  {
   "cell_type": "code",
   "execution_count": null,
   "metadata": {
    "id": "9yCcjZHz3YzN"
   },
   "outputs": [],
   "source": [
    "month_avgs = ice_cream_heater_df.groupby(ice_cream_heater_df.index.month).mean()"
   ]
  },
  {
   "cell_type": "code",
   "execution_count": null,
   "metadata": {
    "id": "mJ4VT2QD3YzN",
    "outputId": "564f49f2-8ea7-4a8e-e382-4b4b9774db20"
   },
   "outputs": [],
   "source": [
    "print(month_avgs)"
   ]
  },
  {
   "cell_type": "code",
   "execution_count": null,
   "metadata": {
    "id": "GiXglqHX3YzO"
   },
   "outputs": [],
   "source": [
    "ice_cream_heater_df['ice_cream_month_avg'] = ice_cream_heater_df.index.map(lambda d: month_avgs.loc[d.month, 'ice cream'])\n",
    "ice_cream_heater_df['heater_month_avg'] = ice_cream_heater_df.index.map(lambda d: month_avgs.loc[d.month, 'heater'])"
   ]
  },
  {
   "cell_type": "code",
   "execution_count": null,
   "metadata": {
    "id": "P5rjDaUa3YzO",
    "outputId": "52185804-a212-4dac-d6d8-87f68e1782cf"
   },
   "outputs": [],
   "source": [
    "ice_cream_heater_df"
   ]
  },
  {
   "cell_type": "code",
   "execution_count": null,
   "metadata": {
    "id": "UPX_9Xg-3YzO"
   },
   "outputs": [],
   "source": [
    "ice_cream_heater_df['ice cream'] = ice_cream_heater_df['ice cream'] - ice_cream_heater_df['ice_cream_month_avg']\n",
    "ice_cream_heater_df['heater'] = ice_cream_heater_df['heater'] - ice_cream_heater_df['heater_month_avg']"
   ]
  },
  {
   "cell_type": "code",
   "execution_count": null,
   "metadata": {
    "id": "jsN2oHne3YzO",
    "outputId": "7d945dcf-d7af-4704-e8f6-535bd76699d3"
   },
   "outputs": [],
   "source": [
    "ice_cream_heater_df"
   ]
  },
  {
   "cell_type": "code",
   "execution_count": null,
   "metadata": {
    "id": "r11zeGy73YzO",
    "outputId": "6d475ec9-be16-4b47-c2a0-463b58ac4d94"
   },
   "outputs": [],
   "source": [
    "plt.figure(figsize=(12,6))\n",
    "ice_cream, = plt.plot(ice_cream_heater_df['ice cream'])\n",
    "\n",
    "for year in range(2004, 2021):\n",
    "    plt.axvline(datetime(year,1,1), linestyle='--', color='k', alpha=0.5)\n",
    "\n",
    "plt.axhline(0, linestyle='--', color='k', alpha=0.3)\n",
    "plt.ylabel('First Difference', fontsize=18)\n",
    "\n",
    "plt.legend(['Ice Cream'], fontsize=16)"
   ]
  },
  {
   "cell_type": "code",
   "execution_count": null,
   "metadata": {
    "id": "EeTDz6us3YzO",
    "outputId": "95cbc27a-962c-40f3-f57d-221fd1f8ca3e"
   },
   "outputs": [],
   "source": [
    "plt.figure(figsize=(12,6))\n",
    "ice_cream, = plt.plot(ice_cream_heater_df['ice cream'])\n",
    "heater, = plt.plot(ice_cream_heater_df['heater'], color='red')\n",
    "\n",
    "for year in range(2004, 2021):\n",
    "    plt.axvline(datetime(year,1,1), linestyle='--', color='k', alpha=0.5)\n",
    "\n",
    "plt.axhline(0, linestyle='--', color='k', alpha=0.3)\n",
    "plt.ylabel('First Difference', fontsize=18)\n",
    "\n",
    "plt.legend(['Ice Cream', 'Heater'], fontsize=16)"
   ]
  },
  {
   "cell_type": "markdown",
   "metadata": {
    "id": "-uv9loUm3YzP"
   },
   "source": [
    "# PACF - Heater"
   ]
  },
  {
   "cell_type": "code",
   "execution_count": null,
   "metadata": {
    "id": "vSnh4j1l3YzP",
    "outputId": "d1434668-51cd-461d-883f-3d4b33ac1dea"
   },
   "outputs": [],
   "source": [
    "plot_pacf(ice_cream_heater_df['heater'])\n",
    "plt.show()"
   ]
  },
  {
   "cell_type": "markdown",
   "metadata": {
    "id": "OPdI4abx3YzP"
   },
   "source": [
    "## So consider an AR(2)"
   ]
  },
  {
   "cell_type": "markdown",
   "metadata": {
    "id": "mWplZ0Px3YzP"
   },
   "source": [
    "# Correlation between \"heater\" and lagged \"ice cream\""
   ]
  },
  {
   "cell_type": "code",
   "execution_count": null,
   "metadata": {
    "id": "sDGk-W_o3YzP",
    "outputId": "ead4ef90-ca61-488f-81f7-d280277943a5"
   },
   "outputs": [],
   "source": [
    "for lag in range(1, 14):\n",
    "    heater_series = ice_cream_heater_df['heater'].iloc[lag:]\n",
    "    lagged_ice_cream_series = ice_cream_heater_df['ice cream'].iloc[:-lag]\n",
    "    print('Lag: %s'%lag)\n",
    "    print(pearsonr(heater_series, lagged_ice_cream_series))\n",
    "    print('------')"
   ]
  },
  {
   "cell_type": "markdown",
   "metadata": {
    "id": "m78jM5nD3YzP"
   },
   "source": [
    "# Fit a VAR Model"
   ]
  },
  {
   "cell_type": "code",
   "execution_count": null,
   "metadata": {
    "id": "Sv03P7px3YzP"
   },
   "outputs": [],
   "source": [
    "ice_cream_heater_df = ice_cream_heater_df[['ice cream', 'heater']]"
   ]
  },
  {
   "cell_type": "code",
   "execution_count": null,
   "metadata": {
    "id": "xh_fkky_3YzP"
   },
   "outputs": [],
   "source": [
    "model = VAR(ice_cream_heater_df)"
   ]
  },
  {
   "cell_type": "code",
   "execution_count": null,
   "metadata": {
    "id": "CpaP-CPr3YzS"
   },
   "outputs": [],
   "source": [
    "model_fit = model.fit(maxlags=13)"
   ]
  },
  {
   "cell_type": "code",
   "execution_count": null,
   "metadata": {
    "id": "oKKHUgAs3YzS",
    "outputId": "a6eff9e1-e280-4594-a64c-80ed1f5532ba"
   },
   "outputs": [],
   "source": [
    "model_fit.summary()"
   ]
  },
  {
   "cell_type": "markdown",
   "metadata": {
    "id": "JopTethV3YzS"
   },
   "source": [
    "# So our final model is:"
   ]
  },
  {
   "cell_type": "markdown",
   "metadata": {
    "id": "edlaTyrw3YzS"
   },
   "source": [
    "$$\n",
    "\\hat{h}_t = - 0.41h_{t-1} - 0.19h_{t-2} + 0.2i_{t-13}\n",
    "$$"
   ]
  },
  {
   "cell_type": "code",
   "execution_count": null,
   "metadata": {
    "id": "_OZ389Ay3YzT"
   },
   "outputs": [],
   "source": []
  }
 ],
 "metadata": {
  "colab": {
   "provenance": []
  },
  "kernelspec": {
   "display_name": "Python 3 (ipykernel)",
   "language": "python",
   "name": "python3"
  },
  "language_info": {
   "codemirror_mode": {
    "name": "ipython",
    "version": 3
   },
   "file_extension": ".py",
   "mimetype": "text/x-python",
   "name": "python",
   "nbconvert_exporter": "python",
   "pygments_lexer": "ipython3",
   "version": "3.9.13"
  }
 },
 "nbformat": 4,
 "nbformat_minor": 1
}
