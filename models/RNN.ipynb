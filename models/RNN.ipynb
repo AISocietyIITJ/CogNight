{
 "cells": [
  {
   "cell_type": "code",
   "execution_count": 1,
   "id": "ecd4800f",
   "metadata": {},
   "outputs": [],
   "source": [
    "import numpy as np\n",
    "import pandas as pd\n",
    "import matplotlib.pyplot as plt\n",
    "import sklearn\n",
    "import torch\n",
    "import torch.nn as nn\n",
    "import torch.optim as optim\n",
    "from torch.autograd import Variable\n",
    "import torch.nn.functional as F\n",
    "from torch.utils.data import DataLoader"
   ]
  },
  {
   "cell_type": "markdown",
   "id": "3236328a",
   "metadata": {},
   "source": [
    "## Dataset"
   ]
  },
  {
   "cell_type": "code",
   "execution_count": 2,
   "id": "826decff",
   "metadata": {},
   "outputs": [],
   "source": [
    "d1 = pd.read_csv('C:/Users/91738/RAID OSR Project/GOQii Dataset/User Data/User5043629.csv')\n",
    "d2 = pd.read_csv('C:/Users/91738/RAID OSR Project/GOQii Dataset/User Data/User4991517.csv')\n",
    "d3 = pd.read_csv('C:/Users/91738/RAID OSR Project/GOQii Dataset/User Data/User4978354.csv')\n",
    "d4 = pd.read_csv('C:/Users/91738/RAID OSR Project/GOQii Dataset/User Data/User4972456.csv')\n",
    "d5 = pd.read_csv('C:/Users/91738/RAID OSR Project/GOQii Dataset/User Data/User4972164.csv')\n",
    "d6 = pd.read_csv('C:/Users/91738/RAID OSR Project/GOQii Dataset/User Data/User4949816.csv')\n",
    "d7 = pd.read_csv('C:/Users/91738/RAID OSR Project/GOQii Dataset/User Data/User4724262.csv')\n",
    "d8 = pd.read_csv('C:/Users/91738/RAID OSR Project/GOQii Dataset/User Data/User774950.csv')\n",
    "d9 = pd.read_csv('C:/Users/91738/RAID OSR Project/GOQii Dataset/User Data/User135966.csv')\n",
    "d10 = pd.read_csv('C:/Users/91738/RAID OSR Project/GOQii Dataset/User Data/User555.csv')\n",
    "\n",
    "d7[\"Date\"] = d6[\"Date\"]\n",
    "cols = [\"Date\",\"Steps\",\"deepSleep\",\"lightSleep\",\"remSleep\",\"awakeSleep\",\"sleepTime\",\"sleepMinHR\",\"sleepMaxHR\",\"restingHR\",\"minSpo2\",\"maxSpo2\",\"sleep_score\"]\n",
    "d7 = d7[cols]\n",
    "\n",
    "datasets = [d1,d2,d3,d4,d5,d6,d7,d8,d9,d10]"
   ]
  },
  {
   "cell_type": "markdown",
   "id": "81a1a183",
   "metadata": {},
   "source": [
    "## RNN Model"
   ]
  },
  {
   "cell_type": "code",
   "execution_count": 3,
   "id": "ff7f76f1",
   "metadata": {},
   "outputs": [],
   "source": [
    "class RNNModel(nn.Module):\n",
    "    \n",
    "    def __init__(self, input_dim, hidden_dim, layer_dim, output_dim):\n",
    "        super(RNNModel, self).__init__()        # initialise object of parent class RNNModel\n",
    "        \n",
    "        self.hidden_dim = hidden_dim\n",
    "        self.layer_dim = layer_dim\n",
    "        self.rnn = nn.RNN(input_dim, hidden_dim, layer_dim, batch_first=True, nonlinearity='relu')\n",
    "\n",
    "        self.fc = nn.Linear(hidden_dim, output_dim)\n",
    "    \n",
    "    def forward(self, x):\n",
    "        \n",
    "        out, hn = self.rnn(x)\n",
    "        out = self.fc(out) \n",
    "        return out\n",
    "    \n",
    "\n",
    "input_dim = 11    # input dimension\n",
    "hidden_dim = 33  # hidden layer dimension\n",
    "layer_dim = 1     # number of hidden layers\n",
    "output_dim = 1   # output dimension\n",
    "seq_dim = 1\n",
    "\n",
    "model = RNNModel(input_dim, hidden_dim, layer_dim, output_dim)\n",
    "\n",
    "learning_rate = 0.05\n",
    "optimizer = torch.optim.Adam(model.parameters(), lr=learning_rate)"
   ]
  },
  {
   "cell_type": "markdown",
   "id": "7cddad1e",
   "metadata": {},
   "source": [
    "## Training "
   ]
  },
  {
   "cell_type": "code",
   "execution_count": 4,
   "id": "5205dae3",
   "metadata": {},
   "outputs": [],
   "source": [
    "losses = []\n",
    "epochs = []"
   ]
  },
  {
   "cell_type": "code",
   "execution_count": 8,
   "id": "93d99fe1",
   "metadata": {
    "scrolled": true
   },
   "outputs": [
    {
     "name": "stdout",
     "output_type": "stream",
     "text": [
      "Epoch 0 / 500  Loss= tensor(10316.8535)\n",
      "Epoch 5 / 500  Loss= tensor(8553.6650)\n",
      "Epoch 10 / 500  Loss= tensor(6919.6987)\n",
      "Epoch 15 / 500  Loss= tensor(5447.3823)\n",
      "Epoch 20 / 500  Loss= tensor(4161.6792)\n",
      "Epoch 25 / 500  Loss= tensor(3080.2664)\n",
      "Epoch 30 / 500  Loss= tensor(2214.1860)\n",
      "Epoch 35 / 500  Loss= tensor(1568.6206)\n",
      "Epoch 40 / 500  Loss= tensor(1143.8138)\n",
      "Epoch 45 / 500  Loss= tensor(935.9288)\n",
      "Epoch 50 / 500  Loss= tensor(937.8663)\n",
      "Epoch 55 / 500  Loss= tensor(1139.9213)\n",
      "Epoch 60 / 500  Loss= tensor(1530.3530)\n",
      "Epoch 65 / 500  Loss= tensor(2095.8259)\n",
      "Epoch 70 / 500  Loss= tensor(2821.7534)\n",
      "Epoch 75 / 500  Loss= tensor(3692.5610)\n",
      "Epoch 80 / 500  Loss= tensor(4691.8643)\n",
      "Epoch 85 / 500  Loss= tensor(5802.5757)\n",
      "Epoch 90 / 500  Loss= tensor(7007.0151)\n",
      "Epoch 95 / 500  Loss= tensor(8286.9326)\n",
      "Epoch 100 / 500  Loss= tensor(9623.5195)\n",
      "Epoch 105 / 500  Loss= tensor(10997.4492)\n",
      "Epoch 110 / 500  Loss= tensor(12388.8242)\n",
      "Epoch 115 / 500  Loss= tensor(13777.1855)\n",
      "Epoch 120 / 500  Loss= tensor(15141.4951)\n",
      "Epoch 125 / 500  Loss= tensor(16460.1699)\n",
      "Epoch 130 / 500  Loss= tensor(17711.1172)\n",
      "Epoch 135 / 500  Loss= tensor(18871.8184)\n",
      "Epoch 140 / 500  Loss= tensor(19919.4609)\n",
      "Epoch 145 / 500  Loss= tensor(20831.2070)\n",
      "Epoch 150 / 500  Loss= tensor(21584.4824)\n",
      "Epoch 155 / 500  Loss= tensor(22157.5117)\n",
      "Epoch 160 / 500  Loss= tensor(22529.8809)\n",
      "Epoch 165 / 500  Loss= tensor(22683.4688)\n",
      "Epoch 170 / 500  Loss= tensor(22603.4414)\n",
      "Epoch 175 / 500  Loss= tensor(22279.4805)\n",
      "Epoch 180 / 500  Loss= tensor(21707.1270)\n",
      "Epoch 185 / 500  Loss= tensor(20889.2051)\n",
      "Epoch 190 / 500  Loss= tensor(19836.9316)\n",
      "Epoch 195 / 500  Loss= tensor(18570.8047)\n",
      "Epoch 200 / 500  Loss= tensor(17120.6484)\n",
      "Epoch 205 / 500  Loss= tensor(15524.9307)\n",
      "Epoch 210 / 500  Loss= tensor(13829.0859)\n",
      "Epoch 215 / 500  Loss= tensor(12083.0723)\n",
      "Epoch 220 / 500  Loss= tensor(10338.3564)\n",
      "Epoch 225 / 500  Loss= tensor(8644.8604)\n",
      "Epoch 230 / 500  Loss= tensor(7048.2461)\n",
      "Epoch 235 / 500  Loss= tensor(5587.9341)\n",
      "Epoch 240 / 500  Loss= tensor(4295.8623)\n",
      "Epoch 245 / 500  Loss= tensor(3196.0813)\n",
      "Epoch 250 / 500  Loss= tensor(2304.9702)\n",
      "Epoch 255 / 500  Loss= tensor(1631.8998)\n",
      "Epoch 260 / 500  Loss= tensor(1180.1051)\n",
      "Epoch 265 / 500  Loss= tensor(947.6783)\n",
      "Epoch 270 / 500  Loss= tensor(928.4949)\n",
      "Epoch 275 / 500  Loss= tensor(1113.0609)\n",
      "Epoch 280 / 500  Loss= tensor(1489.2211)\n",
      "Epoch 285 / 500  Loss= tensor(2042.7324)\n",
      "Epoch 290 / 500  Loss= tensor(2757.7324)\n",
      "Epoch 295 / 500  Loss= tensor(3617.0872)\n",
      "Epoch 300 / 500  Loss= tensor(4602.6045)\n",
      "Epoch 305 / 500  Loss= tensor(5695.2603)\n",
      "Epoch 310 / 500  Loss= tensor(6875.2632)\n",
      "Epoch 315 / 500  Loss= tensor(8122.1709)\n",
      "Epoch 320 / 500  Loss= tensor(9414.9277)\n",
      "Epoch 325 / 500  Loss= tensor(10731.8262)\n",
      "Epoch 330 / 500  Loss= tensor(12050.5850)\n",
      "Epoch 335 / 500  Loss= tensor(13348.3369)\n",
      "Epoch 340 / 500  Loss= tensor(14601.6719)\n",
      "Epoch 345 / 500  Loss= tensor(15786.7266)\n",
      "Epoch 350 / 500  Loss= tensor(16879.2344)\n",
      "Epoch 355 / 500  Loss= tensor(17854.8047)\n",
      "Epoch 360 / 500  Loss= tensor(18689.2305)\n",
      "Epoch 365 / 500  Loss= tensor(19358.8438)\n",
      "Epoch 370 / 500  Loss= tensor(19841.2168)\n",
      "Epoch 375 / 500  Loss= tensor(20115.9902)\n",
      "Epoch 380 / 500  Loss= tensor(20165.8555)\n",
      "Epoch 385 / 500  Loss= tensor(19977.8418)\n",
      "Epoch 390 / 500  Loss= tensor(19544.7715)\n",
      "Epoch 395 / 500  Loss= tensor(18866.7734)\n",
      "Epoch 400 / 500  Loss= tensor(17952.6562)\n",
      "Epoch 405 / 500  Loss= tensor(16820.9980)\n",
      "Epoch 410 / 500  Loss= tensor(15500.3535)\n",
      "Epoch 415 / 500  Loss= tensor(14028.7842)\n",
      "Epoch 420 / 500  Loss= tensor(12452.2744)\n",
      "Epoch 425 / 500  Loss= tensor(10821.9834)\n",
      "Epoch 430 / 500  Loss= tensor(9191.0566)\n",
      "Epoch 435 / 500  Loss= tensor(7611.3306)\n",
      "Epoch 440 / 500  Loss= tensor(6130.1318)\n",
      "Epoch 445 / 500  Loss= tensor(4788.1113)\n",
      "Epoch 450 / 500  Loss= tensor(3617.8301)\n",
      "Epoch 455 / 500  Loss= tensor(2643.3123)\n",
      "Epoch 460 / 500  Loss= tensor(1880.3213)\n",
      "Epoch 465 / 500  Loss= tensor(1337.0762)\n",
      "Epoch 470 / 500  Loss= tensor(1015.2876)\n",
      "Epoch 475 / 500  Loss= tensor(911.2311)\n",
      "Epoch 480 / 500  Loss= tensor(1016.7795)\n",
      "Epoch 485 / 500  Loss= tensor(1320.2991)\n",
      "Epoch 490 / 500  Loss= tensor(1807.4250)\n",
      "Epoch 495 / 500  Loss= tensor(2461.6626)\n"
     ]
    }
   ],
   "source": [
    "max_epochs = 500\n",
    "\n",
    "for epoch in range(max_epochs):\n",
    "    \n",
    "    epochs.append(epoch)\n",
    "    avg_loss = 0\n",
    "    for person in range(10):\n",
    "        \n",
    "        X = (datasets[person].iloc[:,1:-1]).to_numpy()\n",
    "        Y = (datasets[person].iloc[:,-1]).to_numpy()\n",
    "        \n",
    "        X = torch.tensor(X)\n",
    "        X = X.type(torch.FloatTensor)\n",
    "        labels = torch.tensor(Y)\n",
    "        labels = labels.type(torch.FloatTensor)\n",
    "        \n",
    "        outputs = model.forward(X).squeeze()\n",
    "        loss = F.mse_loss(outputs,labels)\n",
    "        avg_loss += loss.data\n",
    "        loss.backward()\n",
    "        optimizer.step()\n",
    "    \n",
    "    losses.append(avg_loss/1000)\n",
    "    \n",
    "    if(epoch%5 == 0):\n",
    "        print(\"Epoch\",epoch,\"/\",max_epochs,\" Loss=\",avg_loss)"
   ]
  },
  {
   "cell_type": "code",
   "execution_count": 6,
   "id": "89c348a0",
   "metadata": {},
   "outputs": [
    {
     "data": {
      "image/png": "[encoded data removed]",
      "text/plain": [
       "<Figure size 640x480 with 1 Axes>"
      ]
     },
     "metadata": {},
     "output_type": "display_data"
    }
   ],
   "source": [
    "plt.plot(epochs, losses)\n",
    "plt.xlabel(\"Epochs\")\n",
    "plt.ylabel(\"Losses * 10^3\")\n",
    "plt.title(\"Loss curve\")\n",
    "plt.show()"
   ]
  },
  {
   "cell_type": "markdown",
   "id": "347287f2",
   "metadata": {},
   "source": [
    "## Model Summary"
   ]
  },
  {
   "cell_type": "code",
   "execution_count": 7,
   "id": "bcd8f104",
   "metadata": {},
   "outputs": [
    {
     "data": {
      "text/plain": [
       "==========================================================================================\n",
       "Layer (type:depth-idx)                   Output Shape              Param #\n",
       "==========================================================================================\n",
       "RNNModel                                 [29, 1]                   --\n",
       "├─RNN: 1-1                               [29, 33]                  1,518\n",
       "├─Linear: 1-2                            [29, 1]                   34\n",
       "==========================================================================================\n",
       "Total params: 1,552\n",
       "Trainable params: 1,552\n",
       "Non-trainable params: 0\n",
       "Total mult-adds (M): 1.45\n",
       "==========================================================================================\n",
       "Input size (MB): 0.00\n",
       "Forward/backward pass size (MB): 0.01\n",
       "Params size (MB): 0.01\n",
       "Estimated Total Size (MB): 0.02\n",
       "=========================================================================================="
      ]
     },
     "execution_count": 7,
     "metadata": {},
     "output_type": "execute_result"
    }
   ],
   "source": [
    "from torchinfo import summary\n",
    "\n",
    "summary(model, input_data = X)"
   ]
  }
 ],
 "metadata": {
  "kernelspec": {
   "display_name": "tf",
   "language": "python",
   "name": "python3"
  },
  "language_info": {
   "codemirror_mode": {
    "name": "ipython",
    "version": 3
   },
   "file_extension": ".py",
   "mimetype": "text/x-python",
   "name": "python",
   "nbconvert_exporter": "python",
   "pygments_lexer": "ipython3",
   "version": "3.10.11"
  }
 },
 "nbformat": 4,
 "nbformat_minor": 5
}
