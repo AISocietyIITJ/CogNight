{
 "cells": [
  {
   "cell_type": "code",
   "execution_count": 46,
   "id": "6e181a3e",
   "metadata": {},
   "outputs": [],
   "source": [
    "import numpy as np\n",
    "import pandas as pd\n",
    "import sklearn\n",
    "import matplotlib.pyplot as plt\n",
    "import statistics as stat\n",
    "from sklearn.linear_model import LogisticRegression as LR\n",
    "from sklearn.svm import SVC\n",
    "\n",
    "import warnings\n",
    "warnings.filterwarnings(\"ignore\")"
   ]
  },
  {
   "cell_type": "markdown",
   "id": "ad655f40",
   "metadata": {},
   "source": [
    "## Logistic Regression"
   ]
  },
  {
   "cell_type": "code",
   "execution_count": 26,
   "id": "173d80e1",
   "metadata": {
    "scrolled": true
   },
   "outputs": [
    {
     "name": "stdout",
     "output_type": "stream",
     "text": [
      "[88 80 80 88 87 83 87 81 88 80 60 79 82 67 82 80 84 80 68 82 79 82 86 80\n",
      " 87 88 79 88 88]\n"
     ]
    },
    {
     "data": {
      "text/plain": [
       "2.689655172413793"
      ]
     },
     "execution_count": 26,
     "metadata": {},
     "output_type": "execute_result"
    }
   ],
   "source": [
    "data1 = pd.read_csv('C:/Users/91738/RAID OSR Project/GOQii Dataset/User Data/User135966.csv')\n",
    "data1 = data1.iloc[:,1:]\n",
    "\n",
    "X = data1.iloc[:,1:-1]\n",
    "Y = data1.iloc[:,-1]\n",
    "\n",
    "model1 = LR(max_iter=100)\n",
    "model1.fit(X,Y)\n",
    "Y_pred = model1.predict(X)\n",
    "\n",
    "print(Y_pred)\n",
    "\n",
    "errors = np.mean(abs(Y_pred - Y))\n",
    "errors"
   ]
  },
  {
   "cell_type": "code",
   "execution_count": 27,
   "id": "c37c12bc",
   "metadata": {
    "scrolled": true
   },
   "outputs": [
    {
     "name": "stdout",
     "output_type": "stream",
     "text": [
      "[77 87 73 77 74 77 78 64 82 87 77 51 62 79 80 73 66 66 81 65 59 68 84 71\n",
      " 71 77 60 96 84]\n"
     ]
    },
    {
     "data": {
      "text/plain": [
       "0.10344827586206896"
      ]
     },
     "execution_count": 27,
     "metadata": {},
     "output_type": "execute_result"
    }
   ],
   "source": [
    "data2 = pd.read_csv('C:/Users/91738/RAID OSR Project/GOQii Dataset/User Data/User4724262.csv')\n",
    "data2 = data2.iloc[:,1:]\n",
    "\n",
    "X = data2.iloc[:,1:-1]\n",
    "Y = data2.iloc[:,-1]\n",
    "\n",
    "model2 = LR(max_iter=100)\n",
    "model2.fit(X,Y)\n",
    "Y_pred = model2.predict(X)\n",
    "\n",
    "print(Y_pred)\n",
    "\n",
    "errors = np.mean(abs(Y_pred - Y))\n",
    "errors"
   ]
  },
  {
   "cell_type": "code",
   "execution_count": 28,
   "id": "1085693d",
   "metadata": {},
   "outputs": [
    {
     "name": "stdout",
     "output_type": "stream",
     "text": [
      "[77 75 79 81 82 91 81 91 86 74 81 81 90 81 81 84 84 82 81 86 66 81 85 89\n",
      " 78 91 91 78 88]\n"
     ]
    },
    {
     "data": {
      "text/plain": [
       "2.3448275862068964"
      ]
     },
     "execution_count": 28,
     "metadata": {},
     "output_type": "execute_result"
    }
   ],
   "source": [
    "data3 = pd.read_csv('C:/Users/91738/RAID OSR Project/GOQii Dataset/User Data/User4949816.csv')\n",
    "data3 = data3.iloc[:,1:]\n",
    "\n",
    "X = data3.iloc[:,1:-1]\n",
    "Y = data3.iloc[:,-1]\n",
    "\n",
    "model3 = LR(max_iter=100)\n",
    "model3.fit(X,Y)\n",
    "Y_pred = model3.predict(X)\n",
    "\n",
    "print(Y_pred)\n",
    "\n",
    "errors = np.mean(abs(Y_pred - Y))\n",
    "errors"
   ]
  },
  {
   "cell_type": "code",
   "execution_count": 29,
   "id": "c60f7b29",
   "metadata": {},
   "outputs": [
    {
     "name": "stdout",
     "output_type": "stream",
     "text": [
      "[82 80 66 81 70 80 72 77 72 69 78 80 74 79 75 90 65 74 93 72 89 78 84 86\n",
      " 69 88 83 64 75]\n"
     ]
    },
    {
     "data": {
      "text/plain": [
       "1.5172413793103448"
      ]
     },
     "execution_count": 29,
     "metadata": {},
     "output_type": "execute_result"
    }
   ],
   "source": [
    "data4 = pd.read_csv('C:/Users/91738/RAID OSR Project/GOQii Dataset/User Data/User4972164.csv')\n",
    "data4 = data4.iloc[:,1:]\n",
    "\n",
    "X = data4.iloc[:,1:-1]\n",
    "Y = data4.iloc[:,-1]\n",
    "\n",
    "model4 = LR(max_iter=100)\n",
    "model4.fit(X,Y)\n",
    "Y_pred = model4.predict(X)\n",
    "\n",
    "print(Y_pred)\n",
    "\n",
    "errors = np.mean(abs(Y_pred - Y))\n",
    "errors"
   ]
  },
  {
   "cell_type": "code",
   "execution_count": 34,
   "id": "684c9c59",
   "metadata": {},
   "outputs": [
    {
     "name": "stdout",
     "output_type": "stream",
     "text": [
      "[66 84 73 80 77 80 57 79 69 73 75 73 61 83 74 74 76 77 81 90 64 68 74 80\n",
      " 81 76 73 75 83]\n"
     ]
    },
    {
     "data": {
      "text/plain": [
       "2.0689655172413794"
      ]
     },
     "execution_count": 34,
     "metadata": {},
     "output_type": "execute_result"
    }
   ],
   "source": [
    "data5 = pd.read_csv('C:/Users/91738/RAID OSR Project/GOQii Dataset/User Data/User4972456.csv')\n",
    "data5 = data5.iloc[:,1:]\n",
    "\n",
    "X = data5.iloc[:,1:-1]\n",
    "Y = data5.iloc[:,-1]\n",
    "\n",
    "model5 = LR(max_iter=100)\n",
    "model5.fit(X,Y)\n",
    "Y_pred = model5.predict(X)\n",
    "\n",
    "print(Y_pred)\n",
    "\n",
    "errors = np.mean(abs(Y_pred - Y))\n",
    "errors"
   ]
  },
  {
   "cell_type": "code",
   "execution_count": 35,
   "id": "85368894",
   "metadata": {},
   "outputs": [
    {
     "name": "stdout",
     "output_type": "stream",
     "text": [
      "[78 88 67 82 89 78 72 68 88 73 85 91 83 45 58 88 67 87 82 80 86 36 63 90\n",
      " 61 78 87 84 79]\n"
     ]
    },
    {
     "data": {
      "text/plain": [
       "0.034482758620689655"
      ]
     },
     "execution_count": 35,
     "metadata": {},
     "output_type": "execute_result"
    }
   ],
   "source": [
    "data6 = pd.read_csv('C:/Users/91738/RAID OSR Project/GOQii Dataset/User Data/User4978354.csv')\n",
    "data6 = data6.iloc[:,1:]\n",
    "\n",
    "X = data6.iloc[:,1:-1]\n",
    "Y = data6.iloc[:,-1]\n",
    "\n",
    "model6 = LR(max_iter=100)\n",
    "model6.fit(X,Y)\n",
    "Y_pred = model6.predict(X)\n",
    "\n",
    "print(Y_pred)\n",
    "\n",
    "errors = np.mean(abs(Y_pred - Y))\n",
    "errors"
   ]
  },
  {
   "cell_type": "code",
   "execution_count": 36,
   "id": "bbe09fad",
   "metadata": {},
   "outputs": [
    {
     "name": "stdout",
     "output_type": "stream",
     "text": [
      "[78 87 84 87 66 87 85 94 70 83 94 79 81 94 66 69 87 81 68 81 78 74 72 81\n",
      " 79 84 74 94 73]\n"
     ]
    },
    {
     "data": {
      "text/plain": [
       "2.3793103448275863"
      ]
     },
     "execution_count": 36,
     "metadata": {},
     "output_type": "execute_result"
    }
   ],
   "source": [
    "data7 = pd.read_csv('C:/Users/91738/RAID OSR Project/GOQii Dataset/User Data/User4991517.csv')\n",
    "data7 = data7.iloc[:,1:]\n",
    "\n",
    "X = data7.iloc[:,1:-1]\n",
    "Y = data7.iloc[:,-1]\n",
    "\n",
    "model7 = LR(max_iter=100)\n",
    "model7.fit(X,Y)\n",
    "Y_pred = model7.predict(X)\n",
    "\n",
    "print(Y_pred)\n",
    "\n",
    "errors = np.mean(abs(Y_pred - Y))\n",
    "errors"
   ]
  },
  {
   "cell_type": "code",
   "execution_count": 38,
   "id": "623cceee",
   "metadata": {},
   "outputs": [
    {
     "name": "stdout",
     "output_type": "stream",
     "text": [
      "[49 90 88 90 86 88 86 85 85 90 90 85 85 88 66 92 92 90 88 88 85 88 85 86\n",
      " 92 86 86 85 85]\n"
     ]
    },
    {
     "data": {
      "text/plain": [
       "2.5517241379310347"
      ]
     },
     "execution_count": 38,
     "metadata": {},
     "output_type": "execute_result"
    }
   ],
   "source": [
    "data8 = pd.read_csv('C:/Users/91738/RAID OSR Project/GOQii Dataset/User Data/User5043629.csv')\n",
    "data8 = data8.iloc[:,1:]\n",
    "\n",
    "X = data8.iloc[:,1:-1]\n",
    "Y = data8.iloc[:,-1]\n",
    "\n",
    "model8 = LR(max_iter=100)\n",
    "model8.fit(X,Y)\n",
    "Y_pred = model8.predict(X)\n",
    "\n",
    "print(Y_pred)\n",
    "\n",
    "errors = np.mean(abs(Y_pred - Y))\n",
    "errors"
   ]
  },
  {
   "cell_type": "code",
   "execution_count": 39,
   "id": "c3658a18",
   "metadata": {},
   "outputs": [
    {
     "name": "stdout",
     "output_type": "stream",
     "text": [
      "[80 83 55 85 92 83 85 86 79 83 92 83 94 83 84 87 73 83 91 78 91 83 88 71\n",
      " 87 97 83 91 88]\n"
     ]
    },
    {
     "data": {
      "text/plain": [
       "1.4482758620689655"
      ]
     },
     "execution_count": 39,
     "metadata": {},
     "output_type": "execute_result"
    }
   ],
   "source": [
    "data9 = pd.read_csv('C:/Users/91738/RAID OSR Project/GOQii Dataset/User Data/User555.csv')\n",
    "data9 = data9.iloc[:,1:]\n",
    "\n",
    "X = data9.iloc[:,1:-1]\n",
    "Y = data9.iloc[:,-1]\n",
    "\n",
    "model9 = LR(max_iter=100)\n",
    "model9.fit(X,Y)\n",
    "Y_pred = model9.predict(X)\n",
    "\n",
    "print(Y_pred)\n",
    "\n",
    "errors = np.mean(abs(Y_pred - Y))\n",
    "errors"
   ]
  },
  {
   "cell_type": "code",
   "execution_count": 40,
   "id": "84eb3aaa",
   "metadata": {},
   "outputs": [
    {
     "name": "stdout",
     "output_type": "stream",
     "text": [
      "[88 86 73 76 84 91 63 59 88 86 79 82 84 75 81 79 62 77 85 86 82 78 84 73\n",
      " 63 84 79 79]\n"
     ]
    },
    {
     "data": {
      "text/plain": [
       "1.0714285714285714"
      ]
     },
     "execution_count": 40,
     "metadata": {},
     "output_type": "execute_result"
    }
   ],
   "source": [
    "data10 = pd.read_csv('C:/Users/91738/RAID OSR Project/GOQii Dataset/User Data/User774950.csv')\n",
    "data10 = data10.iloc[:,1:]\n",
    "\n",
    "X = data10.iloc[:,1:-1]\n",
    "Y = data10.iloc[:,-1]\n",
    "\n",
    "model10 = LR(max_iter=100)\n",
    "model10.fit(X,Y)\n",
    "Y_pred = model10.predict(X)\n",
    "\n",
    "print(Y_pred)\n",
    "\n",
    "errors = np.mean(abs(Y_pred - Y))\n",
    "errors"
   ]
  },
  {
   "cell_type": "code",
   "execution_count": 52,
   "id": "ef3144b5",
   "metadata": {},
   "outputs": [
    {
     "name": "stdout",
     "output_type": "stream",
     "text": [
      "[82, 79, 64, 76, 79, 80, 76, 70, 83, 80, 75, 81, 80, 76, 79, 77, 65, 71, 80, 79, 82, 84, 79, 70, 73, 78, 78, 78]\n"
     ]
    },
    {
     "data": {
      "text/plain": [
       "5.714285714285714"
      ]
     },
     "execution_count": 52,
     "metadata": {},
     "output_type": "execute_result"
    }
   ],
   "source": [
    "# BAGGING THE RESULT OF FIRST 9 CLASSIFIERS ON THE data10\n",
    "\n",
    "models = [model1, model2, model3, model4, model5, model6, model7, model8, model9]\n",
    "\n",
    "final_predictions = []\n",
    "\n",
    "for i in range(9):\n",
    "    model = models[i]\n",
    "    pred = model.predict(X)f\n",
    "    final_predictions.append(pred)\n",
    "    \n",
    "bagging_pred = []\n",
    "for i in range(len(X)):\n",
    "    preds = []\n",
    "    for j in range(9):\n",
    "        preds.append(final_predictions[j][i])\n",
    "    bagging_pred.append(stat.mean(preds))\n",
    "    \n",
    "print(bagging_pred)\n",
    "\n",
    "errors = np.mean(abs(bagging_pred - Y))\n",
    "errors"
   ]
  }
 ],
 "metadata": {
  "celltoolbar": "Raw Cell Format",
  "kernelspec": {
   "display_name": "tf_env",
   "language": "python",
   "name": "tf"
  },
  "language_info": {
   "codemirror_mode": {
    "name": "ipython",
    "version": 3
   },
   "file_extension": ".py",
   "mimetype": "text/x-python",
   "name": "python",
   "nbconvert_exporter": "python",
   "pygments_lexer": "ipython3",
   "version": "3.10.11"
  }
 },
 "nbformat": 4,
 "nbformat_minor": 5
}
